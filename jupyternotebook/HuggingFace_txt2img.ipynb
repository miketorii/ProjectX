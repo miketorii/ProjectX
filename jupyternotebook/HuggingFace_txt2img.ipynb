{
  "nbformat": 4,
  "nbformat_minor": 0,
  "metadata": {
    "colab": {
      "provenance": [],
      "gpuType": "T4",
      "authorship_tag": "ABX9TyN5rtRqaeSxpEtq3Di6MScd"
    },
    "kernelspec": {
      "name": "python3",
      "display_name": "Python 3"
    },
    "language_info": {
      "name": "python"
    },
    "accelerator": "GPU"
  },
  "cells": [
    {
      "cell_type": "code",
      "source": [
        "!pip install diffusers --upgrade\n",
        "!pip install invisible_watermark transformers accelerate safetensors"
      ],
      "metadata": {
        "id": "kCTguQglNtOq"
      },
      "execution_count": null,
      "outputs": []
    },
    {
      "cell_type": "code",
      "source": [
        "from diffusers import DiffusionPipeline\n",
        "from accelerate.utils import write_basic_config\n",
        "import torch\n",
        "\n",
        "from google.colab import drive\n",
        "\n",
        "write_basic_config()\n",
        "drive.mount(\"/content/drive\")\n",
        "\n",
        "pipe = DiffusionPipeline.from_pretrained(\"stabilityai/stable-diffusion-xl-base-1.0\", torch_dtype=torch.float16, use_safetensors=True, variant=\"fp16\")\n",
        "pipe.to(\"cuda\")\n",
        "\n",
        "prompt = \"An astronaut riding a green horse\"\n",
        "#prompt = \"zebra in Africa\"\n",
        "\n",
        "image = pipe(prompt=prompt).images[0]\n",
        "image.save(\"/content/drive/MyDrive/outputimage.png\")\n"
      ],
      "metadata": {
        "id": "sCQidt2BS4L9"
      },
      "execution_count": null,
      "outputs": []
    }
  ]
}