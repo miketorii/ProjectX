{
  "nbformat": 4,
  "nbformat_minor": 0,
  "metadata": {
    "colab": {
      "provenance": [],
      "authorship_tag": "ABX9TyNzrTa/hqbda2ZPUQOmqcgS"
    },
    "kernelspec": {
      "name": "python3",
      "display_name": "Python 3"
    },
    "language_info": {
      "name": "python"
    }
  },
  "cells": [
    {
      "cell_type": "code",
      "execution_count": null,
      "metadata": {
        "id": "ONZpH8Fwvjn8"
      },
      "outputs": [],
      "source": [
        "!pip install transformers\n",
        "!pip install langchain"
      ]
    },
    {
      "cell_type": "code",
      "source": [
        "from langchain.llms.huggingface_pipeline import HuggingFacePipeline\n",
        "from langchain.prompts import ChatPromptTemplate\n",
        "from transformers import AutoModelForCausalLM, AutoTokenizer, pipeline\n",
        "from huggingface_hub import snapshot_download\n",
        "\n",
        "model_id = \"TinyLlama/TinyLlama-1.1B-Chat-v1.0\"\n",
        "download_path = snapshot_download(repo_id=model_id)\n",
        "\n",
        "tokenizer = AutoTokenizer.from_pretrained(download_path)\n",
        "model = AutoModelForCausalLM.from_pretrained(download_path)\n",
        "\n",
        "pipe = pipeline(\"text-generation\", model=model, tokenizer=tokenizer, max_new_tokens=256)\n",
        "hf = HuggingFacePipeline(pipeline=pipe)\n",
        "\n",
        "prompt = ChatPromptTemplate.from_template(\n",
        " \"<|system|>You are a chatbot who can help code!</s><|user|>{question}<s><|assistant|>\"\n",
        ")\n",
        "chain = prompt | hf\n",
        "\n",
        "question = \"Write me a function to print out 'Hello World!' to the CLI in Python\"\n",
        "answer = chain.invoke({\"question\": question})\n",
        "\n",
        "print(answer)\n"
      ],
      "metadata": {
        "id": "_-Pj6F2AwE-2"
      },
      "execution_count": null,
      "outputs": []
    }
  ]
}