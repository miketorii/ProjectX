{
  "nbformat": 4,
  "nbformat_minor": 0,
  "metadata": {
    "colab": {
      "name": "bert.ipynb",
      "provenance": [],
      "collapsed_sections": [],
      "authorship_tag": "ABX9TyM4AHtvazzwX3OKw1XZZiGk"
    },
    "kernelspec": {
      "name": "python3",
      "display_name": "Python 3"
    }
  },
  "cells": [
    {
      "cell_type": "code",
      "metadata": {
        "colab": {
          "base_uri": "https://localhost:8080/"
        },
        "id": "144v6VgPcieu",
        "outputId": "94bc5f92-ae53-462a-e81f-ecabbf57d45b"
      },
      "source": [
        "!pip install -q tensorflow-text"
      ],
      "execution_count": null,
      "outputs": [
        {
          "output_type": "stream",
          "text": [
            "\u001b[?25l\r\u001b[K     |▏                               | 10kB 16.2MB/s eta 0:00:01\r\u001b[K     |▎                               | 20kB 21.2MB/s eta 0:00:01\r\u001b[K     |▍                               | 30kB 25.9MB/s eta 0:00:01\r\u001b[K     |▌                               | 40kB 19.7MB/s eta 0:00:01\r\u001b[K     |▋                               | 51kB 17.5MB/s eta 0:00:01\r\u001b[K     |▊                               | 61kB 19.2MB/s eta 0:00:01\r\u001b[K     |▉                               | 71kB 15.2MB/s eta 0:00:01\r\u001b[K     |█                               | 81kB 13.3MB/s eta 0:00:01\r\u001b[K     |█▏                              | 92kB 12.6MB/s eta 0:00:01\r\u001b[K     |█▎                              | 102kB 12.5MB/s eta 0:00:01\r\u001b[K     |█▍                              | 112kB 12.5MB/s eta 0:00:01\r\u001b[K     |█▌                              | 122kB 12.5MB/s eta 0:00:01\r\u001b[K     |█▋                              | 133kB 12.5MB/s eta 0:00:01\r\u001b[K     |█▊                              | 143kB 12.5MB/s eta 0:00:01\r\u001b[K     |█▉                              | 153kB 12.5MB/s eta 0:00:01\r\u001b[K     |██                              | 163kB 12.5MB/s eta 0:00:01\r\u001b[K     |██▏                             | 174kB 12.5MB/s eta 0:00:01\r\u001b[K     |██▎                             | 184kB 12.5MB/s eta 0:00:01\r\u001b[K     |██▍                             | 194kB 12.5MB/s eta 0:00:01\r\u001b[K     |██▌                             | 204kB 12.5MB/s eta 0:00:01\r\u001b[K     |██▋                             | 215kB 12.5MB/s eta 0:00:01\r\u001b[K     |██▊                             | 225kB 12.5MB/s eta 0:00:01\r\u001b[K     |██▉                             | 235kB 12.5MB/s eta 0:00:01\r\u001b[K     |███                             | 245kB 12.5MB/s eta 0:00:01\r\u001b[K     |███▏                            | 256kB 12.5MB/s eta 0:00:01\r\u001b[K     |███▎                            | 266kB 12.5MB/s eta 0:00:01\r\u001b[K     |███▍                            | 276kB 12.5MB/s eta 0:00:01\r\u001b[K     |███▌                            | 286kB 12.5MB/s eta 0:00:01\r\u001b[K     |███▋                            | 296kB 12.5MB/s eta 0:00:01\r\u001b[K     |███▊                            | 307kB 12.5MB/s eta 0:00:01\r\u001b[K     |███▉                            | 317kB 12.5MB/s eta 0:00:01\r\u001b[K     |████                            | 327kB 12.5MB/s eta 0:00:01\r\u001b[K     |████                            | 337kB 12.5MB/s eta 0:00:01\r\u001b[K     |████▎                           | 348kB 12.5MB/s eta 0:00:01\r\u001b[K     |████▍                           | 358kB 12.5MB/s eta 0:00:01\r\u001b[K     |████▌                           | 368kB 12.5MB/s eta 0:00:01\r\u001b[K     |████▋                           | 378kB 12.5MB/s eta 0:00:01\r\u001b[K     |████▊                           | 389kB 12.5MB/s eta 0:00:01\r\u001b[K     |████▉                           | 399kB 12.5MB/s eta 0:00:01\r\u001b[K     |█████                           | 409kB 12.5MB/s eta 0:00:01\r\u001b[K     |█████                           | 419kB 12.5MB/s eta 0:00:01\r\u001b[K     |█████▎                          | 430kB 12.5MB/s eta 0:00:01\r\u001b[K     |█████▍                          | 440kB 12.5MB/s eta 0:00:01\r\u001b[K     |█████▌                          | 450kB 12.5MB/s eta 0:00:01\r\u001b[K     |█████▋                          | 460kB 12.5MB/s eta 0:00:01\r\u001b[K     |█████▊                          | 471kB 12.5MB/s eta 0:00:01\r\u001b[K     |█████▉                          | 481kB 12.5MB/s eta 0:00:01\r\u001b[K     |██████                          | 491kB 12.5MB/s eta 0:00:01\r\u001b[K     |██████                          | 501kB 12.5MB/s eta 0:00:01\r\u001b[K     |██████▎                         | 512kB 12.5MB/s eta 0:00:01\r\u001b[K     |██████▍                         | 522kB 12.5MB/s eta 0:00:01\r\u001b[K     |██████▌                         | 532kB 12.5MB/s eta 0:00:01\r\u001b[K     |██████▋                         | 542kB 12.5MB/s eta 0:00:01\r\u001b[K     |██████▊                         | 552kB 12.5MB/s eta 0:00:01\r\u001b[K     |██████▉                         | 563kB 12.5MB/s eta 0:00:01\r\u001b[K     |███████                         | 573kB 12.5MB/s eta 0:00:01\r\u001b[K     |███████                         | 583kB 12.5MB/s eta 0:00:01\r\u001b[K     |███████▏                        | 593kB 12.5MB/s eta 0:00:01\r\u001b[K     |███████▍                        | 604kB 12.5MB/s eta 0:00:01\r\u001b[K     |███████▌                        | 614kB 12.5MB/s eta 0:00:01\r\u001b[K     |███████▋                        | 624kB 12.5MB/s eta 0:00:01\r\u001b[K     |███████▊                        | 634kB 12.5MB/s eta 0:00:01\r\u001b[K     |███████▉                        | 645kB 12.5MB/s eta 0:00:01\r\u001b[K     |████████                        | 655kB 12.5MB/s eta 0:00:01\r\u001b[K     |████████                        | 665kB 12.5MB/s eta 0:00:01\r\u001b[K     |████████▏                       | 675kB 12.5MB/s eta 0:00:01\r\u001b[K     |████████▍                       | 686kB 12.5MB/s eta 0:00:01\r\u001b[K     |████████▌                       | 696kB 12.5MB/s eta 0:00:01\r\u001b[K     |████████▋                       | 706kB 12.5MB/s eta 0:00:01\r\u001b[K     |████████▊                       | 716kB 12.5MB/s eta 0:00:01\r\u001b[K     |████████▉                       | 727kB 12.5MB/s eta 0:00:01\r\u001b[K     |█████████                       | 737kB 12.5MB/s eta 0:00:01\r\u001b[K     |█████████                       | 747kB 12.5MB/s eta 0:00:01\r\u001b[K     |█████████▏                      | 757kB 12.5MB/s eta 0:00:01\r\u001b[K     |█████████▍                      | 768kB 12.5MB/s eta 0:00:01\r\u001b[K     |█████████▌                      | 778kB 12.5MB/s eta 0:00:01\r\u001b[K     |█████████▋                      | 788kB 12.5MB/s eta 0:00:01\r\u001b[K     |█████████▊                      | 798kB 12.5MB/s eta 0:00:01\r\u001b[K     |█████████▉                      | 808kB 12.5MB/s eta 0:00:01\r\u001b[K     |██████████                      | 819kB 12.5MB/s eta 0:00:01\r\u001b[K     |██████████                      | 829kB 12.5MB/s eta 0:00:01\r\u001b[K     |██████████▏                     | 839kB 12.5MB/s eta 0:00:01\r\u001b[K     |██████████▎                     | 849kB 12.5MB/s eta 0:00:01\r\u001b[K     |██████████▌                     | 860kB 12.5MB/s eta 0:00:01\r\u001b[K     |██████████▋                     | 870kB 12.5MB/s eta 0:00:01\r\u001b[K     |██████████▊                     | 880kB 12.5MB/s eta 0:00:01\r\u001b[K     |██████████▉                     | 890kB 12.5MB/s eta 0:00:01\r\u001b[K     |███████████                     | 901kB 12.5MB/s eta 0:00:01\r\u001b[K     |███████████                     | 911kB 12.5MB/s eta 0:00:01\r\u001b[K     |███████████▏                    | 921kB 12.5MB/s eta 0:00:01\r\u001b[K     |███████████▎                    | 931kB 12.5MB/s eta 0:00:01\r\u001b[K     |███████████▌                    | 942kB 12.5MB/s eta 0:00:01\r\u001b[K     |███████████▋                    | 952kB 12.5MB/s eta 0:00:01\r\u001b[K     |███████████▊                    | 962kB 12.5MB/s eta 0:00:01\r\u001b[K     |███████████▉                    | 972kB 12.5MB/s eta 0:00:01\r\u001b[K     |████████████                    | 983kB 12.5MB/s eta 0:00:01\r\u001b[K     |████████████                    | 993kB 12.5MB/s eta 0:00:01\r\u001b[K     |████████████▏                   | 1.0MB 12.5MB/s eta 0:00:01\r\u001b[K     |████████████▎                   | 1.0MB 12.5MB/s eta 0:00:01\r\u001b[K     |████████████▌                   | 1.0MB 12.5MB/s eta 0:00:01\r\u001b[K     |████████████▋                   | 1.0MB 12.5MB/s eta 0:00:01\r\u001b[K     |████████████▊                   | 1.0MB 12.5MB/s eta 0:00:01\r\u001b[K     |████████████▉                   | 1.1MB 12.5MB/s eta 0:00:01\r\u001b[K     |█████████████                   | 1.1MB 12.5MB/s eta 0:00:01\r\u001b[K     |█████████████                   | 1.1MB 12.5MB/s eta 0:00:01\r\u001b[K     |█████████████▏                  | 1.1MB 12.5MB/s eta 0:00:01\r\u001b[K     |█████████████▎                  | 1.1MB 12.5MB/s eta 0:00:01\r\u001b[K     |█████████████▍                  | 1.1MB 12.5MB/s eta 0:00:01\r\u001b[K     |█████████████▋                  | 1.1MB 12.5MB/s eta 0:00:01\r\u001b[K     |█████████████▊                  | 1.1MB 12.5MB/s eta 0:00:01\r\u001b[K     |█████████████▉                  | 1.1MB 12.5MB/s eta 0:00:01\r\u001b[K     |██████████████                  | 1.1MB 12.5MB/s eta 0:00:01\r\u001b[K     |██████████████                  | 1.2MB 12.5MB/s eta 0:00:01\r\u001b[K     |██████████████▏                 | 1.2MB 12.5MB/s eta 0:00:01\r\u001b[K     |██████████████▎                 | 1.2MB 12.5MB/s eta 0:00:01\r\u001b[K     |██████████████▍                 | 1.2MB 12.5MB/s eta 0:00:01\r\u001b[K     |██████████████▋                 | 1.2MB 12.5MB/s eta 0:00:01\r\u001b[K     |██████████████▊                 | 1.2MB 12.5MB/s eta 0:00:01\r\u001b[K     |██████████████▉                 | 1.2MB 12.5MB/s eta 0:00:01\r\u001b[K     |███████████████                 | 1.2MB 12.5MB/s eta 0:00:01\r\u001b[K     |███████████████                 | 1.2MB 12.5MB/s eta 0:00:01\r\u001b[K     |███████████████▏                | 1.2MB 12.5MB/s eta 0:00:01\r\u001b[K     |███████████████▎                | 1.3MB 12.5MB/s eta 0:00:01\r\u001b[K     |███████████████▍                | 1.3MB 12.5MB/s eta 0:00:01\r\u001b[K     |███████████████▋                | 1.3MB 12.5MB/s eta 0:00:01\r\u001b[K     |███████████████▊                | 1.3MB 12.5MB/s eta 0:00:01\r\u001b[K     |███████████████▉                | 1.3MB 12.5MB/s eta 0:00:01\r\u001b[K     |████████████████                | 1.3MB 12.5MB/s eta 0:00:01\r\u001b[K     |████████████████                | 1.3MB 12.5MB/s eta 0:00:01\r\u001b[K     |████████████████▏               | 1.3MB 12.5MB/s eta 0:00:01\r\u001b[K     |████████████████▎               | 1.3MB 12.5MB/s eta 0:00:01\r\u001b[K     |████████████████▍               | 1.4MB 12.5MB/s eta 0:00:01\r\u001b[K     |████████████████▌               | 1.4MB 12.5MB/s eta 0:00:01\r\u001b[K     |████████████████▊               | 1.4MB 12.5MB/s eta 0:00:01\r\u001b[K     |████████████████▉               | 1.4MB 12.5MB/s eta 0:00:01\r\u001b[K     |█████████████████               | 1.4MB 12.5MB/s eta 0:00:01\r\u001b[K     |█████████████████               | 1.4MB 12.5MB/s eta 0:00:01\r\u001b[K     |█████████████████▏              | 1.4MB 12.5MB/s eta 0:00:01\r\u001b[K     |█████████████████▎              | 1.4MB 12.5MB/s eta 0:00:01\r\u001b[K     |█████████████████▍              | 1.4MB 12.5MB/s eta 0:00:01\r\u001b[K     |█████████████████▌              | 1.4MB 12.5MB/s eta 0:00:01\r\u001b[K     |█████████████████▊              | 1.5MB 12.5MB/s eta 0:00:01\r\u001b[K     |█████████████████▉              | 1.5MB 12.5MB/s eta 0:00:01\r\u001b[K     |██████████████████              | 1.5MB 12.5MB/s eta 0:00:01\r\u001b[K     |██████████████████              | 1.5MB 12.5MB/s eta 0:00:01\r\u001b[K     |██████████████████▏             | 1.5MB 12.5MB/s eta 0:00:01\r\u001b[K     |██████████████████▎             | 1.5MB 12.5MB/s eta 0:00:01\r\u001b[K     |██████████████████▍             | 1.5MB 12.5MB/s eta 0:00:01\r\u001b[K     |██████████████████▌             | 1.5MB 12.5MB/s eta 0:00:01\r\u001b[K     |██████████████████▊             | 1.5MB 12.5MB/s eta 0:00:01\r\u001b[K     |██████████████████▉             | 1.5MB 12.5MB/s eta 0:00:01\r\u001b[K     |███████████████████             | 1.6MB 12.5MB/s eta 0:00:01\r\u001b[K     |███████████████████             | 1.6MB 12.5MB/s eta 0:00:01\r\u001b[K     |███████████████████▏            | 1.6MB 12.5MB/s eta 0:00:01\r\u001b[K     |███████████████████▎            | 1.6MB 12.5MB/s eta 0:00:01\r\u001b[K     |███████████████████▍            | 1.6MB 12.5MB/s eta 0:00:01\r\u001b[K     |███████████████████▌            | 1.6MB 12.5MB/s eta 0:00:01\r\u001b[K     |███████████████████▋            | 1.6MB 12.5MB/s eta 0:00:01\r\u001b[K     |███████████████████▉            | 1.6MB 12.5MB/s eta 0:00:01\r\u001b[K     |████████████████████            | 1.6MB 12.5MB/s eta 0:00:01\r\u001b[K     |████████████████████            | 1.6MB 12.5MB/s eta 0:00:01\r\u001b[K     |████████████████████▏           | 1.7MB 12.5MB/s eta 0:00:01\r\u001b[K     |████████████████████▎           | 1.7MB 12.5MB/s eta 0:00:01\r\u001b[K     |████████████████████▍           | 1.7MB 12.5MB/s eta 0:00:01\r\u001b[K     |████████████████████▌           | 1.7MB 12.5MB/s eta 0:00:01\r\u001b[K     |████████████████████▋           | 1.7MB 12.5MB/s eta 0:00:01\r\u001b[K     |████████████████████▉           | 1.7MB 12.5MB/s eta 0:00:01\r\u001b[K     |█████████████████████           | 1.7MB 12.5MB/s eta 0:00:01\r\u001b[K     |█████████████████████           | 1.7MB 12.5MB/s eta 0:00:01\r\u001b[K     |█████████████████████▏          | 1.7MB 12.5MB/s eta 0:00:01\r\u001b[K     |█████████████████████▎          | 1.8MB 12.5MB/s eta 0:00:01\r\u001b[K     |█████████████████████▍          | 1.8MB 12.5MB/s eta 0:00:01\r\u001b[K     |█████████████████████▌          | 1.8MB 12.5MB/s eta 0:00:01\r\u001b[K     |█████████████████████▋          | 1.8MB 12.5MB/s eta 0:00:01\r\u001b[K     |█████████████████████▉          | 1.8MB 12.5MB/s eta 0:00:01\r\u001b[K     |██████████████████████          | 1.8MB 12.5MB/s eta 0:00:01\r\u001b[K     |██████████████████████          | 1.8MB 12.5MB/s eta 0:00:01\r\u001b[K     |██████████████████████▏         | 1.8MB 12.5MB/s eta 0:00:01\r\u001b[K     |██████████████████████▎         | 1.8MB 12.5MB/s eta 0:00:01\r\u001b[K     |██████████████████████▍         | 1.8MB 12.5MB/s eta 0:00:01\r\u001b[K     |██████████████████████▌         | 1.9MB 12.5MB/s eta 0:00:01\r\u001b[K     |██████████████████████▋         | 1.9MB 12.5MB/s eta 0:00:01\r\u001b[K     |██████████████████████▊         | 1.9MB 12.5MB/s eta 0:00:01\r\u001b[K     |███████████████████████         | 1.9MB 12.5MB/s eta 0:00:01\r\u001b[K     |███████████████████████         | 1.9MB 12.5MB/s eta 0:00:01\r\u001b[K     |███████████████████████▏        | 1.9MB 12.5MB/s eta 0:00:01\r\u001b[K     |███████████████████████▎        | 1.9MB 12.5MB/s eta 0:00:01\r\u001b[K     |███████████████████████▍        | 1.9MB 12.5MB/s eta 0:00:01\r\u001b[K     |███████████████████████▌        | 1.9MB 12.5MB/s eta 0:00:01\r\u001b[K     |███████████████████████▋        | 1.9MB 12.5MB/s eta 0:00:01\r\u001b[K     |███████████████████████▊        | 2.0MB 12.5MB/s eta 0:00:01\r\u001b[K     |████████████████████████        | 2.0MB 12.5MB/s eta 0:00:01\r\u001b[K     |████████████████████████        | 2.0MB 12.5MB/s eta 0:00:01\r\u001b[K     |████████████████████████▏       | 2.0MB 12.5MB/s eta 0:00:01\r\u001b[K     |████████████████████████▎       | 2.0MB 12.5MB/s eta 0:00:01\r\u001b[K     |████████████████████████▍       | 2.0MB 12.5MB/s eta 0:00:01\r\u001b[K     |████████████████████████▌       | 2.0MB 12.5MB/s eta 0:00:01\r\u001b[K     |████████████████████████▋       | 2.0MB 12.5MB/s eta 0:00:01\r\u001b[K     |████████████████████████▊       | 2.0MB 12.5MB/s eta 0:00:01\r\u001b[K     |█████████████████████████       | 2.0MB 12.5MB/s eta 0:00:01\r\u001b[K     |█████████████████████████       | 2.1MB 12.5MB/s eta 0:00:01\r\u001b[K     |█████████████████████████▏      | 2.1MB 12.5MB/s eta 0:00:01\r\u001b[K     |█████████████████████████▎      | 2.1MB 12.5MB/s eta 0:00:01\r\u001b[K     |█████████████████████████▍      | 2.1MB 12.5MB/s eta 0:00:01\r\u001b[K     |█████████████████████████▌      | 2.1MB 12.5MB/s eta 0:00:01\r\u001b[K     |█████████████████████████▋      | 2.1MB 12.5MB/s eta 0:00:01\r\u001b[K     |█████████████████████████▊      | 2.1MB 12.5MB/s eta 0:00:01\r\u001b[K     |██████████████████████████      | 2.1MB 12.5MB/s eta 0:00:01\r\u001b[K     |██████████████████████████      | 2.1MB 12.5MB/s eta 0:00:01\r\u001b[K     |██████████████████████████▏     | 2.2MB 12.5MB/s eta 0:00:01\r\u001b[K     |██████████████████████████▎     | 2.2MB 12.5MB/s eta 0:00:01\r\u001b[K     |██████████████████████████▍     | 2.2MB 12.5MB/s eta 0:00:01\r\u001b[K     |██████████████████████████▌     | 2.2MB 12.5MB/s eta 0:00:01\r\u001b[K     |██████████████████████████▋     | 2.2MB 12.5MB/s eta 0:00:01\r\u001b[K     |██████████████████████████▊     | 2.2MB 12.5MB/s eta 0:00:01\r\u001b[K     |██████████████████████████▉     | 2.2MB 12.5MB/s eta 0:00:01\r\u001b[K     |███████████████████████████     | 2.2MB 12.5MB/s eta 0:00:01\r\u001b[K     |███████████████████████████▏    | 2.2MB 12.5MB/s eta 0:00:01\r\u001b[K     |███████████████████████████▎    | 2.2MB 12.5MB/s eta 0:00:01\r\u001b[K     |███████████████████████████▍    | 2.3MB 12.5MB/s eta 0:00:01\r\u001b[K     |███████████████████████████▌    | 2.3MB 12.5MB/s eta 0:00:01\r\u001b[K     |███████████████████████████▋    | 2.3MB 12.5MB/s eta 0:00:01\r\u001b[K     |███████████████████████████▊    | 2.3MB 12.5MB/s eta 0:00:01\r\u001b[K     |███████████████████████████▉    | 2.3MB 12.5MB/s eta 0:00:01\r\u001b[K     |████████████████████████████    | 2.3MB 12.5MB/s eta 0:00:01\r\u001b[K     |████████████████████████████▏   | 2.3MB 12.5MB/s eta 0:00:01\r\u001b[K     |████████████████████████████▎   | 2.3MB 12.5MB/s eta 0:00:01\r\u001b[K     |████████████████████████████▍   | 2.3MB 12.5MB/s eta 0:00:01\r\u001b[K     |████████████████████████████▌   | 2.3MB 12.5MB/s eta 0:00:01\r\u001b[K     |████████████████████████████▋   | 2.4MB 12.5MB/s eta 0:00:01\r\u001b[K     |████████████████████████████▊   | 2.4MB 12.5MB/s eta 0:00:01\r\u001b[K     |████████████████████████████▉   | 2.4MB 12.5MB/s eta 0:00:01\r\u001b[K     |█████████████████████████████   | 2.4MB 12.5MB/s eta 0:00:01\r\u001b[K     |█████████████████████████████▏  | 2.4MB 12.5MB/s eta 0:00:01\r\u001b[K     |█████████████████████████████▎  | 2.4MB 12.5MB/s eta 0:00:01\r\u001b[K     |█████████████████████████████▍  | 2.4MB 12.5MB/s eta 0:00:01\r\u001b[K     |█████████████████████████████▌  | 2.4MB 12.5MB/s eta 0:00:01\r\u001b[K     |█████████████████████████████▋  | 2.4MB 12.5MB/s eta 0:00:01\r\u001b[K     |█████████████████████████████▊  | 2.4MB 12.5MB/s eta 0:00:01\r\u001b[K     |█████████████████████████████▉  | 2.5MB 12.5MB/s eta 0:00:01\r\u001b[K     |██████████████████████████████  | 2.5MB 12.5MB/s eta 0:00:01\r\u001b[K     |██████████████████████████████▏ | 2.5MB 12.5MB/s eta 0:00:01\r\u001b[K     |██████████████████████████████▎ | 2.5MB 12.5MB/s eta 0:00:01\r\u001b[K     |██████████████████████████████▍ | 2.5MB 12.5MB/s eta 0:00:01\r\u001b[K     |██████████████████████████████▌ | 2.5MB 12.5MB/s eta 0:00:01\r\u001b[K     |██████████████████████████████▋ | 2.5MB 12.5MB/s eta 0:00:01\r\u001b[K     |██████████████████████████████▊ | 2.5MB 12.5MB/s eta 0:00:01\r\u001b[K     |██████████████████████████████▉ | 2.5MB 12.5MB/s eta 0:00:01\r\u001b[K     |███████████████████████████████ | 2.5MB 12.5MB/s eta 0:00:01\r\u001b[K     |███████████████████████████████▏| 2.6MB 12.5MB/s eta 0:00:01\r\u001b[K     |███████████████████████████████▎| 2.6MB 12.5MB/s eta 0:00:01\r\u001b[K     |███████████████████████████████▍| 2.6MB 12.5MB/s eta 0:00:01\r\u001b[K     |███████████████████████████████▌| 2.6MB 12.5MB/s eta 0:00:01\r\u001b[K     |███████████████████████████████▋| 2.6MB 12.5MB/s eta 0:00:01\r\u001b[K     |███████████████████████████████▊| 2.6MB 12.5MB/s eta 0:00:01\r\u001b[K     |███████████████████████████████▉| 2.6MB 12.5MB/s eta 0:00:01\r\u001b[K     |████████████████████████████████| 2.6MB 12.5MB/s eta 0:00:01\r\u001b[K     |████████████████████████████████| 2.6MB 12.5MB/s \n",
            "\u001b[?25h"
          ],
          "name": "stdout"
        }
      ]
    },
    {
      "cell_type": "code",
      "metadata": {
        "colab": {
          "base_uri": "https://localhost:8080/"
        },
        "id": "CkXD8Pilc7zN",
        "outputId": "f5a395c4-50a3-4630-ab0d-e91ae47df7be"
      },
      "source": [
        "!pip install -q tf-models-official"
      ],
      "execution_count": null,
      "outputs": [
        {
          "output_type": "stream",
          "text": [
            "\u001b[K     |████████████████████████████████| 849kB 13.5MB/s \n",
            "\u001b[K     |████████████████████████████████| 36.7MB 60.5MB/s \n",
            "\u001b[K     |████████████████████████████████| 358kB 48.2MB/s \n",
            "\u001b[K     |████████████████████████████████| 174kB 48.1MB/s \n",
            "\u001b[K     |████████████████████████████████| 1.1MB 43.7MB/s \n",
            "\u001b[K     |████████████████████████████████| 102kB 11.8MB/s \n",
            "\u001b[?25h  Building wheel for py-cpuinfo (setup.py) ... \u001b[?25l\u001b[?25hdone\n"
          ],
          "name": "stdout"
        }
      ]
    },
    {
      "cell_type": "code",
      "metadata": {
        "id": "hj9Jz6PNdCV5"
      },
      "source": [
        "import os\n",
        "import shutil\n",
        "\n",
        "import tensorflow as tf\n",
        "import tensorflow_hub as hub\n",
        "import tensorflow_text as text\n",
        "from official.nlp import optimization\n",
        "\n",
        "import matplotlib.pyplot as plt\n",
        "\n",
        "tf.get_logger().setLevel('ERROR')"
      ],
      "execution_count": null,
      "outputs": []
    },
    {
      "cell_type": "code",
      "metadata": {
        "colab": {
          "base_uri": "https://localhost:8080/"
        },
        "id": "nV8a9g1OdXNs",
        "outputId": "4e9cef8d-cc85-40e6-83b6-4942cf47278d"
      },
      "source": [
        "url = 'https://ai.stanford.edu/~amaas/data/sentiment/aclImdb_v1.tar.gz'\n",
        "\n",
        "dataset = tf.keras.utils.get_file('aclIdb_v1.tar.gz', url, untar=True, cache_dir='.', cache_subdir='')\n",
        "dataset_dir = os.path.join(os.path.dirname(dataset), 'aclImdb')\n",
        "train_dir = os.path.join(dataset_dir, 'train')\n",
        "\n",
        "remove_dir = os.path.join(train_dir, 'unsup')\n",
        "shutil.rmtree(remove_dir)\n"
      ],
      "execution_count": null,
      "outputs": [
        {
          "output_type": "stream",
          "text": [
            "Downloading data from https://ai.stanford.edu/~amaas/data/sentiment/aclImdb_v1.tar.gz\n",
            "84131840/84125825 [==============================] - 11s 0us/step\n"
          ],
          "name": "stdout"
        }
      ]
    },
    {
      "cell_type": "code",
      "metadata": {
        "colab": {
          "base_uri": "https://localhost:8080/"
        },
        "id": "3HpAzKNMeSg1",
        "outputId": "d5e825d3-200c-4131-82f3-29cb34b84637"
      },
      "source": [
        "AUTOTUNE = tf.data.experimental.AUTOTUNE\n",
        "batch_size = 32\n",
        "seed = 42\n",
        "\n",
        "raw_train_ds = tf.keras.preprocessing.text_dataset_from_directory(\n",
        "    'aclImdb/train',\n",
        "    batch_size=batch_size,\n",
        "    validation_split=0.2,\n",
        "    subset='training',\n",
        "    seed=seed\n",
        ")\n",
        "\n",
        "class_names = raw_train_ds.class_names\n",
        "train_ds = raw_train_ds.cache().prefetch(buffer_size=AUTOTUNE)\n",
        "\n",
        "val_ds = tf.keras.preprocessing.text_dataset_from_directory(\n",
        "    'aclImdb/train',\n",
        "    batch_size=batch_size,\n",
        "    validation_split=0.2,\n",
        "    subset='validation',\n",
        "    seed=seed\n",
        ")\n",
        "\n",
        "val_ds = raw_train_ds.cache().prefetch(buffer_size=AUTOTUNE)\n",
        "\n",
        "test_ds = tf.keras.preprocessing.text_dataset_from_directory(\n",
        "    'aclImdb/train',\n",
        "    batch_size=batch_size\n",
        ")\n",
        "\n",
        "test_ds = raw_train_ds.cache().prefetch(buffer_size=AUTOTUNE)\n",
        "\n",
        "\n"
      ],
      "execution_count": null,
      "outputs": [
        {
          "output_type": "stream",
          "text": [
            "Found 25000 files belonging to 2 classes.\n",
            "Using 20000 files for training.\n",
            "Found 25000 files belonging to 2 classes.\n",
            "Using 5000 files for validation.\n",
            "Found 25000 files belonging to 2 classes.\n"
          ],
          "name": "stdout"
        }
      ]
    },
    {
      "cell_type": "code",
      "metadata": {
        "colab": {
          "base_uri": "https://localhost:8080/"
        },
        "id": "e4OrOBg7f5ix",
        "outputId": "47b4dc54-2d76-4ac9-ca8f-ca36a15ad4b2"
      },
      "source": [
        "for text_batch, label_batch in train_ds.take(1):\n",
        "  for i in range(3):\n",
        "    tbatch = text_batch.numpy()[i]\n",
        "    print(f'Review: {tbatch}')\n",
        "    label = label_batch.numpy()[i]\n",
        "    print(f'Label: {label} ({class_names[label]})')\n"
      ],
      "execution_count": null,
      "outputs": [
        {
          "output_type": "stream",
          "text": [
            "Review: b'Silent Night, Deadly Night 5 is the very last of the series, and like part 4, it\\'s unrelated to the first three except by title and the fact that it\\'s a Christmas-themed horror flick.<br /><br />Except to the oblivious, there\\'s some obvious things going on here...Mickey Rooney plays a toymaker named Joe Petto and his creepy son\\'s name is Pino. Ring a bell, anyone? Now, a little boy named Derek heard a knock at the door one evening, and opened it to find a present on the doorstep for him. Even though it said \"don\\'t open till Christmas\", he begins to open it anyway but is stopped by his dad, who scolds him and sends him to bed, and opens the gift himself. Inside is a little red ball that sprouts Santa arms and a head, and proceeds to kill dad. Oops, maybe he should have left well-enough alone. Of course Derek is then traumatized by the incident since he watched it from the stairs, but he doesn\\'t grow up to be some killer Santa, he just stops talking.<br /><br />There\\'s a mysterious stranger lurking around, who seems very interested in the toys that Joe Petto makes. We even see him buying a bunch when Derek\\'s mom takes him to the store to find a gift for him to bring him out of his trauma. And what exactly is this guy doing? Well, we\\'re not sure but he does seem to be taking these toys apart to see what makes them tick. He does keep his landlord from evicting him by promising him to pay him in cash the next day and presents him with a \"Larry the Larvae\" toy for his kid, but of course \"Larry\" is not a good toy and gets out of the box in the car and of course, well, things aren\\'t pretty.<br /><br />Anyway, eventually what\\'s going on with Joe Petto and Pino is of course revealed, and as with the old story, Pino is not a \"real boy\". Pino is probably even more agitated and naughty because he suffers from \"Kenitalia\" (a smooth plastic crotch) so that could account for his evil ways. And the identity of the lurking stranger is revealed too, and there\\'s even kind of a happy ending of sorts. Whee.<br /><br />A step up from part 4, but not much of one. Again, Brian Yuzna is involved, and Screaming Mad George, so some decent special effects, but not enough to make this great. A few leftovers from part 4 are hanging around too, like Clint Howard and Neith Hunter, but that doesn\\'t really make any difference. Anyway, I now have seeing the whole series out of my system. Now if I could get some of it out of my brain. 4 out of 5.'\n",
            "Label: 0 (neg)\n",
            "Review: b\"This Italian film from the '70's is NOT even in the class with Dog Soldiers, The Howling, or even that awful American Werewolf in Paris, BUT...it is fun to watch. I'm talking about watching the lead actress, a stunning blonde, run amok in her birthday suit. We're talking about graphic, complete nudity...it's obvious that she is a real blonde...humma humma humma!! The story is a hoot, the SFX are childish, and the acting (for the most part) stinks. The only redeeming value of this movie is all (and there is a LOT) the nudity & sex scenes. Tame by HBO standards, but still fun to see when you find yourself without a date on Saturday night. OK...HERE'S THE SPOILER...There is NO werewolf (except in the opening scene of the heroine(??)'s ancestor. The girl just imagines that she's a werewolf...in other words, a clinical Lycanthrope.\"\n",
            "Label: 0 (neg)\n",
            "Review: b'Mr Perlman gives a standout performance (as usual). Sadly, he has to struggle with an underwritten script and some nonsensical set pieces.<br /><br />Larsen is in \"Die Hard\" mode complete with singlet and bulging muscles, I\\'m sure he could do better but seems satisfied to grimace and snarl through his part.<br /><br />The lovely Erika is very decorative (even though fully clothed!) and shows some signs of \"getting\" acting at last.<br /><br />SFX are mainly poor CGI and steals from other movies.<br /><br />The shootouts are pitiful - worthy of the A-Team<br /><br />Not even worth seeing for Perlman - AVOID'\n",
            "Label: 0 (neg)\n"
          ],
          "name": "stdout"
        }
      ]
    },
    {
      "cell_type": "code",
      "metadata": {
        "colab": {
          "base_uri": "https://localhost:8080/"
        },
        "id": "rJ38d8D7oKtU",
        "outputId": "3bcdb01e-0c50-4f35-e423-bccff62badd6"
      },
      "source": [
        "tfhub_handle_encoder = 'https://tfhub.dev/tensorflow/small_bert/bert_en_uncased_L-4_H-512_A-8/1'\n",
        "tfhub_handle_preprocess = 'https://tfhub.dev/tensorflow/bert_en_uncased_preprocess/1'\n",
        "\n",
        "print(f'BERT model selected           : {tfhub_handle_encoder}')\n",
        "print(f'Preprocess model auto-selected: {tfhub_handle_preprocess}')"
      ],
      "execution_count": null,
      "outputs": [
        {
          "output_type": "stream",
          "text": [
            "BERT model selected           : https://tfhub.dev/tensorflow/small_bert/bert_en_uncased_L-4_H-512_A-8/1\n",
            "Preprocess model auto-selected: https://tfhub.dev/tensorflow/bert_en_uncased_preprocess/1\n"
          ],
          "name": "stdout"
        }
      ]
    },
    {
      "cell_type": "code",
      "metadata": {
        "id": "DSPEZ_bToeRC"
      },
      "source": [
        "bert_preprocess_model = hub.KerasLayer(tfhub_handle_preprocess)"
      ],
      "execution_count": null,
      "outputs": []
    },
    {
      "cell_type": "code",
      "metadata": {
        "colab": {
          "base_uri": "https://localhost:8080/"
        },
        "id": "luhAF_-morlP",
        "outputId": "7a4edc56-8f38-4136-b93d-14d7ade6af63"
      },
      "source": [
        "text_test = ['this is such an amazing movie!']\n",
        "text_preprocessed = bert_preprocess_model(text_test)\n",
        "\n",
        "print(f'Keys               : { list(text_preprocessed.keys())}')\n",
        "print(f'Shape             : { text_preprocessed[\"input_word_ids\"].shape}')\n",
        "print(f'Word Ids        : { text_preprocessed[\"input_word_ids\"][0, :12]}')\n",
        "print(f'Input Mask     : { text_preprocessed[\"input_mask\"][0, :12]}')\n",
        "print(f'Type Ids         : { text_preprocessed[\"input_type_ids\"][0, :12]}')\n"
      ],
      "execution_count": null,
      "outputs": [
        {
          "output_type": "stream",
          "text": [
            "Keys               : ['input_word_ids', 'input_mask', 'input_type_ids']\n",
            "Shape             : (1, 128)\n",
            "Word Ids        : [ 101 2023 2003 2107 2019 6429 3185  999  102    0    0    0]\n",
            "Input Mask     : [1 1 1 1 1 1 1 1 1 0 0 0]\n",
            "Type Ids         : [0 0 0 0 0 0 0 0 0 0 0 0]\n"
          ],
          "name": "stdout"
        }
      ]
    },
    {
      "cell_type": "code",
      "metadata": {
        "id": "RQ0lf7ZqqP1R"
      },
      "source": [
        "bert_model = hub.KerasLayer(tfhub_handle_encoder)"
      ],
      "execution_count": null,
      "outputs": []
    },
    {
      "cell_type": "code",
      "metadata": {
        "colab": {
          "base_uri": "https://localhost:8080/"
        },
        "id": "gqCGLZzzqWZS",
        "outputId": "186e1709-4e87-4e9f-a5aa-d754426e1d1f"
      },
      "source": [
        "bert_results = bert_model(text_preprocessed)\n",
        "\n",
        "print(f'Loaded BERT                     : { tfhub_handle_encoder}')\n",
        "print(f'Pooled Outputs Shape         : { bert_results[\"pooled_output\"].shape}')\n",
        "print(f'Pooled Outputs Values        : { bert_results[\"pooled_output\"][0, :12]}')\n",
        "print(f'Sequence Outputs Shape    : { bert_results[\"sequence_output\"].shape}')\n",
        "print(f'Sequence Outputs Values   : { bert_results[\"sequence_output\"][0, :12]}')\n"
      ],
      "execution_count": null,
      "outputs": [
        {
          "output_type": "stream",
          "text": [
            "Loaded BERT                     : https://tfhub.dev/tensorflow/small_bert/bert_en_uncased_L-4_H-512_A-8/1\n",
            "Pooled Outputs Shape         : (1, 512)\n",
            "Pooled Outputs Values        : [ 0.76262915  0.99280983 -0.18611857  0.3667384   0.15233715  0.6550451\n",
            "  0.9681154  -0.948627    0.00216166 -0.9877732   0.06842688 -0.9763059 ]\n",
            "Sequence Outputs Shape    : (1, 128, 512)\n",
            "Sequence Outputs Values   : [[-0.28946406  0.34321284  0.33231527 ...  0.21300796  0.7102072\n",
            "  -0.05771175]\n",
            " [-0.2874205   0.31981015 -0.23018587 ...  0.5845504  -0.21329752\n",
            "   0.72692037]\n",
            " [-0.66157055  0.68876845 -0.8743293  ...  0.1087724  -0.26173186\n",
            "   0.47855398]\n",
            " ...\n",
            " [-0.22561164 -0.28925577 -0.07064409 ...  0.47565955  0.8327713\n",
            "   0.40025365]\n",
            " [-0.29824203 -0.2747312  -0.05450513 ...  0.4884973   1.0955358\n",
            "   0.18163405]\n",
            " [-0.44378182  0.00930732  0.07223705 ...  0.17290123  1.1833236\n",
            "   0.07897992]]\n"
          ],
          "name": "stdout"
        }
      ]
    },
    {
      "cell_type": "code",
      "metadata": {
        "id": "3w4Sb-0krtZy"
      },
      "source": [
        "def build_classifier_model():\n",
        "  text_input = tf.keras.layers.Input(shape=(), dtype=tf.string, name='text')\n",
        "  preprocessing_layer = hub.KerasLayer(tfhub_handle_preprocess, name='preprocessing')\n",
        "  encoder_inputs = preprocessing_layer(text_input)\n",
        "  encoder = hub.KerasLayer(tfhub_handle_encoder, trainable=True, name='BERT_encoder')\n",
        "  outputs = encoder(encoder_inputs)\n",
        "  net = outputs['pooled_output']\n",
        "  net = tf.keras.layers.Dropout(0.1)(net)\n",
        "  net = tf.keras.layers.Dense(1, activation=None, name='classifier')(net)\n",
        "  return tf.keras.Model(text_input, net)"
      ],
      "execution_count": null,
      "outputs": []
    },
    {
      "cell_type": "code",
      "metadata": {
        "colab": {
          "base_uri": "https://localhost:8080/"
        },
        "id": "t8dBfyMXtGRH",
        "outputId": "df392f3b-374d-4098-a41a-05c697185e35"
      },
      "source": [
        "classifier_model = build_classifier_model()\n",
        "bert_raw_result = classifier_model(tf.constant(text_test))\n",
        "print(tf.sigmoid(bert_raw_result))"
      ],
      "execution_count": null,
      "outputs": [
        {
          "output_type": "stream",
          "text": [
            "tf.Tensor([[0.6298188]], shape=(1, 1), dtype=float32)\n"
          ],
          "name": "stdout"
        }
      ]
    },
    {
      "cell_type": "code",
      "metadata": {
        "colab": {
          "base_uri": "https://localhost:8080/",
          "height": 466
        },
        "id": "CZuwOrOetijW",
        "outputId": "8b8aebb9-9442-4cca-dc80-1f948ed5235b"
      },
      "source": [
        "tf.keras.utils.plot_model(classifier_model)"
      ],
      "execution_count": null,
      "outputs": [
        {
          "output_type": "execute_result",
          "data": {
            "image/png": "[encoded data removed]",
            "text/plain": [
              "<IPython.core.display.Image object>"
            ]
          },
          "metadata": {
            "tags": []
          },
          "execution_count": 22
        }
      ]
    },
    {
      "cell_type": "code",
      "metadata": {
        "id": "sO5tYgwdt192"
      },
      "source": [
        "loss = tf.keras.losses.BinaryCrossentropy(from_logits=True)\n",
        "metrics = tf.metrics.BinaryAccuracy()"
      ],
      "execution_count": null,
      "outputs": []
    },
    {
      "cell_type": "code",
      "metadata": {
        "id": "6lVvVOU8uFVz"
      },
      "source": [
        "epochs = 5\n",
        "steps_per_epoch = tf.data.experimental.cardinality(train_ds).numpy()\n",
        "num_train_steps = steps_per_epoch * epochs\n",
        "num_warmup_steps = int(0.1*num_train_steps)\n",
        "\n",
        "init_lr = 3e-5\n",
        "optimizer = optimization.create_optimizer(init_lr=init_lr,\n",
        "                                          num_train_steps=num_train_steps,\n",
        "                                          num_warmup_steps=num_warmup_steps,\n",
        "                                          optimizer_type='adamw')\n"
      ],
      "execution_count": null,
      "outputs": []
    },
    {
      "cell_type": "code",
      "metadata": {
        "colab": {
          "base_uri": "https://localhost:8080/"
        },
        "id": "UsZCDjcguzkz",
        "outputId": "b459064a-6fef-4f4c-bbd1-f377fd9e57e2"
      },
      "source": [
        "classifier_model.compile(optimizer=optimizer, loss=loss, metrics=metrics)\n",
        "\n",
        "print(f'Training model with {tfhub_handle_encoder}')\n",
        "history = classifier_model.fit(x=train_ds,\n",
        "                               validation_data=val_ds,\n",
        "                               epochs=epochs)"
      ],
      "execution_count": null,
      "outputs": [
        {
          "output_type": "stream",
          "text": [
            "Training model with https://tfhub.dev/tensorflow/small_bert/bert_en_uncased_L-4_H-512_A-8/1\n",
            "Epoch 1/5\n",
            "625/625 [==============================] - 4736s 8s/step - loss: 0.4927 - binary_accuracy: 0.7332 - val_loss: 0.3153 - val_binary_accuracy: 0.8490\n",
            "Epoch 2/5\n",
            "625/625 [==============================] - 4762s 8s/step - loss: 0.3217 - binary_accuracy: 0.8572 - val_loss: 0.2233 - val_binary_accuracy: 0.8963\n",
            "Epoch 3/5\n",
            "625/625 [==============================] - 4747s 8s/step - loss: 0.2375 - binary_accuracy: 0.8982 - val_loss: 0.1331 - val_binary_accuracy: 0.9446\n",
            "Epoch 4/5\n",
            "625/625 [==============================] - 4730s 8s/step - loss: 0.1742 - binary_accuracy: 0.9306 - val_loss: 0.0876 - val_binary_accuracy: 0.9691\n",
            "Epoch 5/5\n",
            "625/625 [==============================] - 4739s 8s/step - loss: 0.1298 - binary_accuracy: 0.9507 - val_loss: 0.0691 - val_binary_accuracy: 0.9791\n"
          ],
          "name": "stdout"
        }
      ]
    },
    {
      "cell_type": "code",
      "metadata": {
        "colab": {
          "base_uri": "https://localhost:8080/"
        },
        "id": "gYozaMdWvaRh",
        "outputId": "b3b2f611-2a9b-4253-e1e3-5545c59b6692"
      },
      "source": [
        "loss, accuracy = classifier_model.evaluate(test_ds)\n",
        "\n",
        "print(f'Loss: {loss}')\n",
        "print(f'Accuracy: {accuracy}')"
      ],
      "execution_count": null,
      "outputs": [
        {
          "output_type": "stream",
          "text": [
            "625/625 [==============================] - 1013s 2s/step - loss: 0.0691 - binary_accuracy: 0.9791\n",
            "Loss: 0.06907320022583008\n",
            "Accuracy: 0.9790999889373779\n"
          ],
          "name": "stdout"
        }
      ]
    },
    {
      "cell_type": "code",
      "metadata": {
        "colab": {
          "base_uri": "https://localhost:8080/",
          "height": 438
        },
        "id": "uULrWKV9vvMX",
        "outputId": "9206427f-7e7a-4560-c9be-f7a6899503a2"
      },
      "source": [
        "history_dict = history.history\n",
        "print(history_dict.keys())\n",
        "\n",
        "acc = history_dict['binary_accuracy']\n",
        "val_acc = history_dict['val_binary_accuracy']\n",
        "loss = history_dict['loss']\n",
        "val_loss = history_dict['val_loss']\n",
        "\n",
        "epochs = range(1, len(acc) + 1)\n",
        "fig = plt.figure(figsize=(10,6))\n",
        "fig.tight_layout()\n",
        "\n",
        "plt.subplot(2, 1, 1)\n",
        "plt.plot(epochs, loss, 'r', label='Trainig loss')\n",
        "plt.plot(epochs, val_loss, 'b', label='Validation loss')\n",
        "plt.title('Training and validation loss')\n",
        "plt.ylabel('Loss')\n",
        "plt.legend()\n",
        "\n",
        "plt.subplot(2, 1, 2)\n",
        "plt.plot(epochs, acc, 'r', label='Trainig acc')\n",
        "plt.plot(epochs, val_acc, 'b', label='Validation acc')\n",
        "plt.title('Training and validation accuracy')\n",
        "plt.xlabel('Epochs')\n",
        "plt.ylabel('Accuracy')\n",
        "plt.legend(loc='lower right')\n",
        "\n",
        "\n",
        "\n",
        "\n",
        "\n"
      ],
      "execution_count": null,
      "outputs": [
        {
          "output_type": "stream",
          "text": [
            "dict_keys(['loss', 'binary_accuracy', 'val_loss', 'val_binary_accuracy'])\n"
          ],
          "name": "stdout"
        },
        {
          "output_type": "execute_result",
          "data": {
            "text/plain": [
              "<matplotlib.legend.Legend at 0x7fb3df658e80>"
            ]
          },
          "metadata": {
            "tags": []
          },
          "execution_count": 27
        },
        {
          "output_type": "display_data",
          "data": {
            "image/png": "[encoded data removed]",
            "text/plain": [
              "<Figure size 720x432 with 2 Axes>"
            ]
          },
          "metadata": {
            "tags": [],
            "needs_background": "light"
          }
        }
      ]
    },
    {
      "cell_type": "code",
      "metadata": {
        "id": "rrpuejtfxdhl"
      },
      "source": [
        "dataset_name = 'imdb'\n",
        "saved_model_path = './{}_bert'.format( dataset_name.replace('/','_') )\n",
        "\n",
        "classifier_model.save(saved_model_path, include_optimizer=False)"
      ],
      "execution_count": null,
      "outputs": []
    },
    {
      "cell_type": "code",
      "metadata": {
        "id": "y1-c-fJIx8F3"
      },
      "source": [
        "reloaded_model = tf.saved_model.load(saved_model_path)"
      ],
      "execution_count": null,
      "outputs": []
    },
    {
      "cell_type": "code",
      "metadata": {
        "colab": {
          "base_uri": "https://localhost:8080/"
        },
        "id": "jHSghGmDyGRM",
        "outputId": "33959082-7489-483e-bbb9-fe4ebc6d3474"
      },
      "source": [
        "def print_my_examples(inputs, results):\n",
        "  result_for_printing = [f'input: {inputs[i]:<30} : score: {results[i][0]:.6f}' for i in range(len(inputs))]\n",
        "  print(*result_for_printing, sep='\\n')\n",
        "  print()\n",
        "\n",
        "examples = [\n",
        "            'this is such an amazing movie!',\n",
        "            'The movie was great!',\n",
        "            'The movie was meh.',\n",
        "            'The movie was super',\n",
        "            'The movie was okish.',\n",
        "            'The movie was not good.',\n",
        "            'The movie was terrible...'\n",
        "]\n",
        "\n",
        "reloaded_results = tf.sigmoid( reloaded_model(tf.constant(examples)) )\n",
        "original_results = tf.sigmoid( classifier_model(tf.constant(examples)) )\n",
        "\n",
        "print('Results from the saved model: ')\n",
        "print_my_examples(examples, reloaded_results)\n",
        "print('Results from the model in memory: ')\n",
        "print_my_examples(examples, original_results)\n"
      ],
      "execution_count": null,
      "outputs": [
        {
          "output_type": "stream",
          "text": [
            "Results from the saved model: \n",
            "input: this is such an amazing movie! : score: 0.999704\n",
            "input: The movie was great!           : score: 0.997739\n",
            "input: The movie was meh.             : score: 0.804118\n",
            "input: The movie was super            : score: 0.547437\n",
            "input: The movie was okish.           : score: 0.008605\n",
            "input: The movie was not good.        : score: 0.001641\n",
            "input: The movie was terrible...      : score: 0.001557\n",
            "\n",
            "Results from the model in memory: \n",
            "input: this is such an amazing movie! : score: 0.999704\n",
            "input: The movie was great!           : score: 0.997739\n",
            "input: The movie was meh.             : score: 0.804118\n",
            "input: The movie was super            : score: 0.547437\n",
            "input: The movie was okish.           : score: 0.008605\n",
            "input: The movie was not good.        : score: 0.001641\n",
            "input: The movie was terrible...      : score: 0.001557\n",
            "\n"
          ],
          "name": "stdout"
        }
      ]
    }
  ]
}