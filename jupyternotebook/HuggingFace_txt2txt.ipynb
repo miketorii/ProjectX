{
  "nbformat": 4,
  "nbformat_minor": 0,
  "metadata": {
    "colab": {
      "provenance": [],
      "authorship_tag": "ABX9TyO8XpfK+O7ns3+0fzlcBhA6"
    },
    "kernelspec": {
      "name": "python3",
      "display_name": "Python 3"
    },
    "language_info": {
      "name": "python"
    }
  },
  "cells": [
    {
      "cell_type": "code",
      "execution_count": null,
      "metadata": {
        "id": "lzp2Ey6AtPbL"
      },
      "outputs": [],
      "source": [
        "!pip install transformers"
      ]
    },
    {
      "cell_type": "code",
      "source": [
        "from transformers import pipeline\n",
        "\n",
        "#generator = pipeline('text-generation', model='gpt2')\n",
        "generator = pipeline('text-generation', model='nomic-ai/gpt4all-j')\n",
        "generator(\"What is Large Language Model of AI?\", max_length=30, num_return_sequences=5)"
      ],
      "metadata": {
        "id": "SFFg_Yy-tYoP"
      },
      "execution_count": null,
      "outputs": []
    }
  ]
}