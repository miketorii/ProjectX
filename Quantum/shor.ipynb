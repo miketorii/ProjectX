{
 "cells": [
  {
   "cell_type": "code",
   "execution_count": 19,
   "id": "954ca9d2-6f92-4850-83e4-a3bd43331d0f",
   "metadata": {},
   "outputs": [
    {
     "ename": "ImportError",
     "evalue": "cannot import name 'qft_dagger' from 'qiskit' (/home/mtorii/develop/ProjectX/Quantum/lib/python3.10/site-packages/qiskit/__init__.py)",
     "output_type": "error",
     "traceback": [
      "\u001b[0;31m---------------------------------------------------------------------------\u001b[0m",
      "\u001b[0;31mImportError\u001b[0m                               Traceback (most recent call last)",
      "Cell \u001b[0;32mIn[19], line 5\u001b[0m\n\u001b[1;32m      2\u001b[0m \u001b[38;5;28;01mimport\u001b[39;00m\u001b[38;5;250m \u001b[39m\u001b[38;5;21;01mmatplotlib\u001b[39;00m\u001b[38;5;21;01m.\u001b[39;00m\u001b[38;5;21;01mpyplot\u001b[39;00m\u001b[38;5;250m \u001b[39m\u001b[38;5;28;01mas\u001b[39;00m\u001b[38;5;250m \u001b[39m\u001b[38;5;21;01mplt\u001b[39;00m\n\u001b[1;32m      4\u001b[0m \u001b[38;5;28;01mfrom\u001b[39;00m\u001b[38;5;250m \u001b[39m\u001b[38;5;21;01mqiskit_aer\u001b[39;00m\u001b[38;5;250m \u001b[39m\u001b[38;5;28;01mimport\u001b[39;00m AerSimulator\n\u001b[0;32m----> 5\u001b[0m \u001b[38;5;28;01mfrom\u001b[39;00m\u001b[38;5;250m \u001b[39m\u001b[38;5;21;01mqiskit\u001b[39;00m\u001b[38;5;250m \u001b[39m\u001b[38;5;28;01mimport\u001b[39;00m QuantumCircuit, QuantumRegister,ClassicalRegister, transpile, qft_dagger\n\u001b[1;32m      7\u001b[0m N \u001b[38;5;241m=\u001b[39m \u001b[38;5;241m35\u001b[39m\n\u001b[1;32m      8\u001b[0m a \u001b[38;5;241m=\u001b[39m \u001b[38;5;241m3\u001b[39m\n",
      "\u001b[0;31mImportError\u001b[0m: cannot import name 'qft_dagger' from 'qiskit' (/home/mtorii/develop/ProjectX/Quantum/lib/python3.10/site-packages/qiskit/__init__.py)"
     ]
    }
   ],
   "source": [
    "import numpy as np\n",
    "import matplotlib.pyplot as plt\n",
    "\n",
    "from qiskit_aer import AerSimulator\n",
    "from qiskit import QuantumCircuit, QuantumRegister,ClassicalRegister, transpile\n",
    "\n",
    "N = 35\n",
    "a = 3\n",
    "\n",
    "xvals = np.arange(35)\n",
    "yvals = [np.mod(a**x, N) for x in xvals]\n",
    "\n",
    "fig, ax = plt.subplots()\n",
    "ax.plot(xvals, yvals, linewidth=1, linestyle='dotted', marker='x')\n",
    "ax.set(xlabel='$x$', ylabel=f'${a}^x$ mod {N}', title=\"N=35 Periodic Function in Shor's algorithm\")\n",
    "\n",
    "try:\n",
    "    r = yvals[1:].index(1) + 1\n",
    "except ValueError:\n",
    "    print(\"error\")\n",
    "else:\n",
    "    plt.annotate(text='', xy=(0,1), xytext=(r,1), arrowprops={'arrowstyle': '<->'})\n",
    "    plt.annotate(text=f'$r={r}$', xy=(r/3, 1.5))"
   ]
  },
  {
   "cell_type": "code",
   "execution_count": null,
   "id": "329ef03d-74ec-4274-9587-3fd7a7001a10",
   "metadata": {},
   "outputs": [],
   "source": [
    "def qft_dagger(qreg):\n",
    "    qc = QuantumCircuit(qreg)\n",
    "\n",
    "    for j in range(qreg.size // 2):\n",
    "        qc.swap(qreg[j], qreg[-1-j])\n",
    "        \n",
    "    for itarg in range(qreg.size):\n",
    "        for ictrl in range(itarg):\n",
    "            power = ictrl - itarg - 1\n",
    "            qc.cp(-2.*np.pi*(2**power), ictrl, itarg)\n",
    "        qc.h(itarg)\n",
    "    \n",
    "    qc.name = \"QFT^dagger\"\n",
    "    \n",
    "    return qc"
   ]
  },
  {
   "cell_type": "code",
   "execution_count": 20,
   "id": "636eabc4-8982-4003-b951-b738a7691373",
   "metadata": {},
   "outputs": [],
   "source": [
    "def c_amod15(a, l):\n",
    "    if a not in [2,4,7,8,11,13]:\n",
    "        raise ValueError(\"error a\")\n",
    "\n",
    "    U = QuantumCircuit(4)\n",
    "\n",
    "    ##############################\n",
    "    if a in [2, 13]:\n",
    "        U.swap(3,2)\n",
    "        U.swap(2,1)\n",
    "        U.swap(1,0)\n",
    "    elif a in [4, 11]:\n",
    "        U.swap(3,1)\n",
    "        U.swap(2,0)\n",
    "    elif a in [8, 7]:\n",
    "        U.swap(1,0)\n",
    "        U.swap(2,1)\n",
    "        U.swap(3,2)\n",
    "\n",
    "    if a in [7, 11, 13]:\n",
    "        U.x([0,1,2,3])\n",
    "\n",
    "    ##############################\n",
    "    U_power = U.repeat(2**l)\n",
    "\n",
    "    gate = U_power.to_gate()\n",
    "    gate.name = f\"{a}^{2**l} mod 15\"\n",
    "\n",
    "    c_gate = gate.control()\n",
    "    return c_gate"
   ]
  },
  {
   "cell_type": "code",
   "execution_count": 21,
   "id": "ebcc4604-d93c-40ad-8943-e11f51d020e6",
   "metadata": {},
   "outputs": [
    {
     "ename": "NameError",
     "evalue": "name 'qft_dagger' is not defined",
     "output_type": "error",
     "traceback": [
      "\u001b[0;31m---------------------------------------------------------------------------\u001b[0m",
      "\u001b[0;31mNameError\u001b[0m                                 Traceback (most recent call last)",
      "Cell \u001b[0;32mIn[21], line 17\u001b[0m\n\u001b[1;32m     14\u001b[0m \u001b[38;5;28;01mfor\u001b[39;00m l, ctrl \u001b[38;5;129;01min\u001b[39;00m \u001b[38;5;28menumerate\u001b[39m(qreg_meas):\n\u001b[1;32m     15\u001b[0m     qc\u001b[38;5;241m.\u001b[39mappend(c_amod15(a,l), qargs\u001b[38;5;241m=\u001b[39m([ctrl]\u001b[38;5;241m+\u001b[39mqreg_aux[:]) )\n\u001b[0;32m---> 17\u001b[0m qc\u001b[38;5;241m.\u001b[39mappend(\u001b[43mqft_dagger\u001b[49m(qreg_meas), qargs\u001b[38;5;241m=\u001b[39mqreg_meas)\n\u001b[1;32m     19\u001b[0m qc\u001b[38;5;241m.\u001b[39mmeasure(qreg_meas, creg_meas)\n\u001b[1;32m     20\u001b[0m qc\u001b[38;5;241m.\u001b[39mdraw(\u001b[38;5;124m'\u001b[39m\u001b[38;5;124mmpl\u001b[39m\u001b[38;5;124m'\u001b[39m)\n",
      "\u001b[0;31mNameError\u001b[0m: name 'qft_dagger' is not defined"
     ]
    }
   ],
   "source": [
    "a = 7\n",
    "\n",
    "n_meas = 8\n",
    "\n",
    "qreg_meas = QuantumRegister(n_meas, name=\"meas\")\n",
    "qreg_aux = QuantumRegister(4, name=\"aux\")\n",
    "creg_meas = ClassicalRegister(n_meas, name=\"out\")\n",
    "\n",
    "qc = QuantumCircuit(qreg_meas, qreg_aux, creg_meas)\n",
    "\n",
    "qc.h(qreg_meas)\n",
    "qc.x(qreg_aux[0])\n",
    "\n",
    "for l, ctrl in enumerate(qreg_meas):\n",
    "    qc.append(c_amod15(a,l), qargs=([ctrl]+qreg_aux[:]) )\n",
    "\n",
    "qc.append(qft_dagger(qreg_meas), qargs=qreg_meas)\n",
    "\n",
    "qc.measure(qreg_meas, creg_meas)\n",
    "qc.draw('mpl')"
   ]
  },
  {
   "cell_type": "code",
   "execution_count": null,
   "id": "c47d1a8b-e1a4-4c7a-af4d-14cd4d98f73a",
   "metadata": {},
   "outputs": [],
   "source": []
  }
 ],
 "metadata": {
  "kernelspec": {
   "display_name": "Python 3 (ipykernel)",
   "language": "python",
   "name": "python3"
  },
  "language_info": {
   "codemirror_mode": {
    "name": "ipython",
    "version": 3
   },
   "file_extension": ".py",
   "mimetype": "text/x-python",
   "name": "python",
   "nbconvert_exporter": "python",
   "pygments_lexer": "ipython3",
   "version": "3.10.12"
  }
 },
 "nbformat": 4,
 "nbformat_minor": 5
}
