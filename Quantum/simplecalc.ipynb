{
 "cells": [
  {
   "cell_type": "code",
   "execution_count": 1,
   "id": "c2929bc1-0e4b-4724-9124-c4e8be1531d3",
   "metadata": {},
   "outputs": [
    {
     "name": "stdout",
     "output_type": "stream",
     "text": [
      "aer_simulator_statevector\n"
     ]
    },
    {
     "data": {
      "text/latex": [
       "$\\displaystyle | \\text{final} \\rangle = \\frac{1}{\\sqrt{2}}\\left( |0\\rangle + i |1\\rangle\\right)$"
      ],
      "text/plain": [
       "<IPython.core.display.Math object>"
      ]
     },
     "execution_count": 1,
     "metadata": {},
     "output_type": "execute_result"
    }
   ],
   "source": [
    "import numpy as np\n",
    "\n",
    "from qiskit_aer import AerSimulator\n",
    "from qiskit import QuantumCircuit, QuantumRegister,transpile\n",
    "\n",
    "from IPython.display import Math\n",
    "from qc_workbook.show_state import statevector_expr\n",
    "\n",
    "#########################################################################\n",
    "#\n",
    "#\n",
    "def get_statevector_array(circuit):\n",
    "    circuit = circuit.copy()\n",
    "    circuit.save_statevector()\n",
    "    circuit = transpile(circuit, backend=simulator)\n",
    "    job = simulator.run(circuit)\n",
    "    result = job.result()\n",
    "    qiskit_statevector = result.data()['statevector']\n",
    "\n",
    "    return np.asarray(qiskit_statevector), result\n",
    "\n",
    "#########################################################################\n",
    "#\n",
    "#\n",
    "simulator = AerSimulator(method='statevector')\n",
    "print(simulator.name)\n",
    "\n",
    "circuit = QuantumCircuit(1)\n",
    "\n",
    "circuit.h(0)\n",
    "circuit.p(np.pi/2.,0)\n",
    "\n",
    "circuit.draw('mpl')\n",
    "\n",
    "\n",
    "#circuit.u(np.pi/2., np.pi/2., 0., 0)\n",
    "\n"
   ]
  },
  {
   "cell_type": "code",
   "execution_count": null,
   "id": "875d84da-0945-402a-ae7e-5342b270cec4",
   "metadata": {},
   "outputs": [],
   "source": [
    "expr = statevector_expr(circuit, amp_norm=(np.sqrt(0.5), r'\\frac{1}{\\sqrt{2}}'))\n",
    "Math(expr)\n"
   ]
  }
 ],
 "metadata": {
  "kernelspec": {
   "display_name": "Python 3 (ipykernel)",
   "language": "python",
   "name": "python3"
  },
  "language_info": {
   "codemirror_mode": {
    "name": "ipython",
    "version": 3
   },
   "file_extension": ".py",
   "mimetype": "text/x-python",
   "name": "python",
   "nbconvert_exporter": "python",
   "pygments_lexer": "ipython3",
   "version": "3.10.12"
  }
 },
 "nbformat": 4,
 "nbformat_minor": 5
}
