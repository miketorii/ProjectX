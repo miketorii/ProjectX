{
 "cells": [
  {
   "cell_type": "code",
   "execution_count": 15,
   "id": "c2929bc1-0e4b-4724-9124-c4e8be1531d3",
   "metadata": {},
   "outputs": [
    {
     "name": "stdout",
     "output_type": "stream",
     "text": [
      "aer_simulator_statevector\n"
     ]
    }
   ],
   "source": [
    "import numpy as np\n",
    "\n",
    "from qiskit_aer import AerSimulator\n",
    "from qiskit import QuantumCircuit, QuantumRegister,transpile\n",
    "\n",
    "from IPython.display import Math\n",
    "from qc_workbook.show_state import statevector_expr\n",
    "\n",
    "#########################################################################\n",
    "#\n",
    "#\n",
    "def get_statevector_array(circuit):\n",
    "    circuit = circuit.copy()\n",
    "    circuit.save_statevector()\n",
    "    circuit = transpile(circuit, backend=simulator)\n",
    "    job = simulator.run(circuit)\n",
    "    result = job.result()\n",
    "    qiskit_statevector = result.data()['statevector']\n",
    "\n",
    "    return np.asarray(qiskit_statevector), result\n",
    "\n",
    "#########################################################################\n",
    "#\n",
    "#\n",
    "simulator = AerSimulator(method='statevector')\n",
    "print(simulator.name)"
   ]
  },
  {
   "cell_type": "code",
   "execution_count": 16,
   "id": "2a91baf3-9cd5-4673-8e49-d16f492313b1",
   "metadata": {},
   "outputs": [
    {
     "data": {
      "image/png": "[encoded data removed]",
      "text/plain": [
       "<Figure size 269.064x117.056 with 1 Axes>"
      ]
     },
     "execution_count": 16,
     "metadata": {},
     "output_type": "execute_result"
    }
   ],
   "source": [
    "##############################################################\n",
    "#\n",
    "#  Q1.  1 qubic,  calc the following quantum state\n",
    "#       1/sqrt(2) * ( |0> + i |1> )\n",
    "#\n",
    "circuit = QuantumCircuit(1)\n",
    "\n",
    "circuit.h(0)\n",
    "circuit.p(np.pi/2.,0)\n",
    "\n",
    "circuit.draw('mpl')\n",
    "\n",
    "#circuit.u(np.pi/2., np.pi/2., 0., 0)"
   ]
  },
  {
   "cell_type": "code",
   "execution_count": 17,
   "id": "875d84da-0945-402a-ae7e-5342b270cec4",
   "metadata": {},
   "outputs": [
    {
     "data": {
      "text/latex": [
       "$\\displaystyle | \\text{final} \\rangle = \\frac{1}{\\sqrt{2}}\\left( |0\\rangle + i |1\\rangle\\right)$"
      ],
      "text/plain": [
       "<IPython.core.display.Math object>"
      ]
     },
     "execution_count": 17,
     "metadata": {},
     "output_type": "execute_result"
    }
   ],
   "source": [
    "expr = statevector_expr(circuit, amp_norm=(np.sqrt(0.5), r'\\frac{1}{\\sqrt{2}}'))\n",
    "Math(expr)\n"
   ]
  },
  {
   "cell_type": "code",
   "execution_count": 18,
   "id": "72bd99ba-5102-4087-8a88-3f21829f811c",
   "metadata": {},
   "outputs": [
    {
     "data": {
      "image/png": "[encoded data removed]",
      "text/plain": [
       "<Figure size 370.906x200.667 with 1 Axes>"
      ]
     },
     "execution_count": 18,
     "metadata": {},
     "output_type": "execute_result"
    }
   ],
   "source": [
    "##############################################################\n",
    "#\n",
    "#  Q2.  2 qubics,  calc the following quantum state\n",
    "#       1/sqrt(2) * ( |0> + i |3> )\n",
    "#\n",
    "circuit = QuantumCircuit(2)\n",
    "\n",
    "circuit.h(0)\n",
    "circuit.p(np.pi/2., 0)\n",
    "circuit.cx(0, 1)\n",
    "\n",
    "circuit.draw('mpl')"
   ]
  },
  {
   "cell_type": "code",
   "execution_count": 19,
   "id": "226e02c8-3ddf-4dc0-9784-387a1c635640",
   "metadata": {},
   "outputs": [
    {
     "data": {
      "text/latex": [
       "$\\displaystyle | \\text{final} \\rangle = \\frac{1}{\\sqrt{2}}\\left( |0\\rangle + i |3\\rangle\\right)$"
      ],
      "text/plain": [
       "<IPython.core.display.Math object>"
      ]
     },
     "execution_count": 19,
     "metadata": {},
     "output_type": "execute_result"
    }
   ],
   "source": [
    "expr = statevector_expr(circuit, amp_norm=(np.sqrt(0.5), r'\\frac{1}{\\sqrt{2}}'))\n",
    "Math(expr)"
   ]
  },
  {
   "cell_type": "code",
   "execution_count": 20,
   "id": "60615711-e00d-435c-9d49-2c70b0e44483",
   "metadata": {},
   "outputs": [
    {
     "data": {
      "image/png": "[encoded data removed]",
      "text/plain": [
       "<Figure size 371.107x284.278 with 1 Axes>"
      ]
     },
     "execution_count": 20,
     "metadata": {},
     "output_type": "execute_result"
    }
   ],
   "source": [
    "##############################################################\n",
    "#\n",
    "#  Q3.  3 qubics,  calc the following quantum state: GHZ state\n",
    "#       1/sqrt(2) * ( |0> + |7> )\n",
    "#\n",
    "circuit = QuantumCircuit(3)\n",
    "\n",
    "circuit.h(0)\n",
    "circuit.cx(0, 1)\n",
    "circuit.mcx([0, 1], 2)\n",
    "\n",
    "circuit.draw('mpl')"
   ]
  },
  {
   "cell_type": "code",
   "execution_count": 22,
   "id": "b44cecd6-6fb5-4f02-aabd-48bf55debc24",
   "metadata": {},
   "outputs": [
    {
     "data": {
      "text/latex": [
       "$\\displaystyle | \\text{final} \\rangle = \\frac{1}{\\sqrt{2}}\\left( |0\\rangle +  |7\\rangle\\right)$"
      ],
      "text/plain": [
       "<IPython.core.display.Math object>"
      ]
     },
     "execution_count": 22,
     "metadata": {},
     "output_type": "execute_result"
    }
   ],
   "source": [
    "expr = statevector_expr(circuit, amp_norm=(np.sqrt(0.5), r'\\frac{1}{\\sqrt{2}}'))\n",
    "Math(expr)"
   ]
  },
  {
   "cell_type": "code",
   "execution_count": 23,
   "id": "f09be557-2dcd-4a95-90d4-9ff2b52339cf",
   "metadata": {},
   "outputs": [
    {
     "data": {
      "image/png": "[encoded data removed]",
      "text/plain": [
       "<Figure size 203.885x367.889 with 1 Axes>"
      ]
     },
     "execution_count": 23,
     "metadata": {},
     "output_type": "execute_result"
    }
   ],
   "source": [
    "##############################################################\n",
    "#\n",
    "#  Q4.  n qubics,  calc the following quantum state\n",
    "#                     2**n-1\n",
    "#       1/sqrt(2**n) sigma ( |k> )\n",
    "#                     k=0\n",
    "#\n",
    "num_qubits = 4\n",
    "circuit = QuantumCircuit(num_qubits)\n",
    "\n",
    "for i in range(num_qubits):   \n",
    "    circuit.h(i)\n",
    "\n",
    "circuit.draw('mpl')"
   ]
  },
  {
   "cell_type": "code",
   "execution_count": 24,
   "id": "54df77c0-aa1a-4d37-bc0f-496c1849ed84",
   "metadata": {},
   "outputs": [
    {
     "data": {
      "text/latex": [
       "$\\displaystyle | \\text{final} \\rangle = \\frac{1}{4}\\left( |0\\rangle +  |1\\rangle +  |2\\rangle +  |3\\rangle +  |4\\rangle +  |5\\rangle +  |6\\rangle +  |7\\rangle +  |8\\rangle +  |9\\rangle +  |10\\rangle +  |11\\rangle +  |12\\rangle +  |13\\rangle +  |14\\rangle +  |15\\rangle\\right)$"
      ],
      "text/plain": [
       "<IPython.core.display.Math object>"
      ]
     },
     "execution_count": 24,
     "metadata": {},
     "output_type": "execute_result"
    }
   ],
   "source": [
    "sqrt_2_to_n = 2**(num_qubits // 2)\n",
    "expr = statevector_expr(circuit, amp_norm=(1./sqrt_2_to_n, r'\\frac{1}{%d}' % sqrt_2_to_n))\n",
    "Math(expr)"
   ]
  },
  {
   "cell_type": "code",
   "execution_count": 27,
   "id": "1b51ecce-a361-499a-ac9f-7d679adbf802",
   "metadata": {},
   "outputs": [
    {
     "data": {
      "image/png": "[encoded data removed]",
      "text/plain": [
       "<Figure size 454.719x367.889 with 1 Axes>"
      ]
     },
     "execution_count": 27,
     "metadata": {},
     "output_type": "execute_result"
    }
   ],
   "source": [
    "##############################################################\n",
    "#\n",
    "#  Q5.  4 qubics,  flip |5>\n",
    "#\n",
    "num_qubits = 4\n",
    "\n",
    "circuit = QuantumCircuit(num_qubits)\n",
    "\n",
    "for i in range(num_qubits):\n",
    "    circuit.h(i)\n",
    "\n",
    "circuit.x(1)\n",
    "circuit.x(3)\n",
    "circuit.mcp(np.pi, [0,1,2], 3)\n",
    "circuit.x(1)\n",
    "circuit.x(3)\n",
    "\n",
    "circuit.draw('mpl')\n"
   ]
  },
  {
   "cell_type": "code",
   "execution_count": 28,
   "id": "47fc6dbe-0a60-427c-b51c-e0806a076207",
   "metadata": {},
   "outputs": [
    {
     "data": {
      "text/latex": [
       "$\\displaystyle | \\text{final} \\rangle = \\frac{1}{4}\\left( |0\\rangle +  |1\\rangle +  |2\\rangle +  |3\\rangle +  |4\\rangle -  |5\\rangle +  |6\\rangle +  |7\\rangle +  |8\\rangle +  |9\\rangle +  |10\\rangle +  |11\\rangle +  |12\\rangle +  |13\\rangle +  |14\\rangle +  |15\\rangle\\right)$"
      ],
      "text/plain": [
       "<IPython.core.display.Math object>"
      ]
     },
     "execution_count": 28,
     "metadata": {},
     "output_type": "execute_result"
    }
   ],
   "source": [
    "sqrt_2_to_n = 2**(num_qubits // 2)\n",
    "expr = statevector_expr(circuit, amp_norm=(1./sqrt_2_to_n, r'\\frac{1}{%d}' % sqrt_2_to_n))\n",
    "Math(expr)"
   ]
  },
  {
   "cell_type": "code",
   "execution_count": null,
   "id": "a5065656-57b9-41b3-963f-f92065f4ddd3",
   "metadata": {},
   "outputs": [],
   "source": []
  }
 ],
 "metadata": {
  "kernelspec": {
   "display_name": "Python 3 (ipykernel)",
   "language": "python",
   "name": "python3"
  },
  "language_info": {
   "codemirror_mode": {
    "name": "ipython",
    "version": 3
   },
   "file_extension": ".py",
   "mimetype": "text/x-python",
   "name": "python",
   "nbconvert_exporter": "python",
   "pygments_lexer": "ipython3",
   "version": "3.10.12"
  }
 },
 "nbformat": 4,
 "nbformat_minor": 5
}
