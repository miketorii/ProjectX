{
 "cells": [
  {
   "cell_type": "code",
   "execution_count": 15,
   "id": "c2929bc1-0e4b-4724-9124-c4e8be1531d3",
   "metadata": {},
   "outputs": [
    {
     "name": "stdout",
     "output_type": "stream",
     "text": [
      "aer_simulator_statevector\n"
     ]
    }
   ],
   "source": [
    "import numpy as np\n",
    "\n",
    "from qiskit_aer import AerSimulator\n",
    "from qiskit import QuantumCircuit, QuantumRegister,transpile\n",
    "\n",
    "from IPython.display import Math\n",
    "from qc_workbook.show_state import statevector_expr\n",
    "\n",
    "#########################################################################\n",
    "#\n",
    "#\n",
    "def get_statevector_array(circuit):\n",
    "    circuit = circuit.copy()\n",
    "    circuit.save_statevector()\n",
    "    circuit = transpile(circuit, backend=simulator)\n",
    "    job = simulator.run(circuit)\n",
    "    result = job.result()\n",
    "    qiskit_statevector = result.data()['statevector']\n",
    "\n",
    "    return np.asarray(qiskit_statevector), result\n",
    "\n",
    "#########################################################################\n",
    "#\n",
    "#\n",
    "simulator = AerSimulator(method='statevector')\n",
    "print(simulator.name)"
   ]
  },
  {
   "cell_type": "code",
   "execution_count": 16,
   "id": "2a91baf3-9cd5-4673-8e49-d16f492313b1",
   "metadata": {},
   "outputs": [
    {
     "data": {
      "image/png": "[encoded data removed]",
      "text/plain": [
       "<Figure size 269.064x117.056 with 1 Axes>"
      ]
     },
     "execution_count": 16,
     "metadata": {},
     "output_type": "execute_result"
    }
   ],
   "source": [
    "##############################################################\n",
    "#\n",
    "#  Q1.  1 qubic,  calc the following quantum state\n",
    "#       1/sqrt(2) * ( |0> + i |1> )\n",
    "#\n",
    "circuit = QuantumCircuit(1)\n",
    "\n",
    "circuit.h(0)\n",
    "circuit.p(np.pi/2.,0)\n",
    "\n",
    "circuit.draw('mpl')\n",
    "\n",
    "#circuit.u(np.pi/2., np.pi/2., 0., 0)"
   ]
  },
  {
   "cell_type": "code",
   "execution_count": 17,
   "id": "875d84da-0945-402a-ae7e-5342b270cec4",
   "metadata": {},
   "outputs": [
    {
     "data": {
      "text/latex": [
       "$\\displaystyle | \\text{final} \\rangle = \\frac{1}{\\sqrt{2}}\\left( |0\\rangle + i |1\\rangle\\right)$"
      ],
      "text/plain": [
       "<IPython.core.display.Math object>"
      ]
     },
     "execution_count": 17,
     "metadata": {},
     "output_type": "execute_result"
    }
   ],
   "source": [
    "expr = statevector_expr(circuit, amp_norm=(np.sqrt(0.5), r'\\frac{1}{\\sqrt{2}}'))\n",
    "Math(expr)\n"
   ]
  },
  {
   "cell_type": "code",
   "execution_count": 18,
   "id": "72bd99ba-5102-4087-8a88-3f21829f811c",
   "metadata": {},
   "outputs": [
    {
     "data": {
      "image/png": "[encoded data removed]",
      "text/plain": [
       "<Figure size 370.906x200.667 with 1 Axes>"
      ]
     },
     "execution_count": 18,
     "metadata": {},
     "output_type": "execute_result"
    }
   ],
   "source": [
    "##############################################################\n",
    "#\n",
    "#  Q2.  2 qubics,  calc the following quantum state\n",
    "#       1/sqrt(2) * ( |0> + i |3> )\n",
    "#\n",
    "circuit = QuantumCircuit(2)\n",
    "\n",
    "circuit.h(0)\n",
    "circuit.p(np.pi/2., 0)\n",
    "circuit.cx(0, 1)\n",
    "\n",
    "circuit.draw('mpl')"
   ]
  },
  {
   "cell_type": "code",
   "execution_count": 19,
   "id": "226e02c8-3ddf-4dc0-9784-387a1c635640",
   "metadata": {},
   "outputs": [
    {
     "data": {
      "text/latex": [
       "$\\displaystyle | \\text{final} \\rangle = \\frac{1}{\\sqrt{2}}\\left( |0\\rangle + i |3\\rangle\\right)$"
      ],
      "text/plain": [
       "<IPython.core.display.Math object>"
      ]
     },
     "execution_count": 19,
     "metadata": {},
     "output_type": "execute_result"
    }
   ],
   "source": [
    "expr = statevector_expr(circuit, amp_norm=(np.sqrt(0.5), r'\\frac{1}{\\sqrt{2}}'))\n",
    "Math(expr)"
   ]
  },
  {
   "cell_type": "code",
   "execution_count": 20,
   "id": "60615711-e00d-435c-9d49-2c70b0e44483",
   "metadata": {},
   "outputs": [
    {
     "data": {
      "image/png": "[encoded data removed]",
      "text/plain": [
       "<Figure size 371.107x284.278 with 1 Axes>"
      ]
     },
     "execution_count": 20,
     "metadata": {},
     "output_type": "execute_result"
    }
   ],
   "source": [
    "##############################################################\n",
    "#\n",
    "#  Q3.  3 qubics,  calc the following quantum state: GHZ state\n",
    "#       1/sqrt(2) * ( |0> + |7> )\n",
    "#\n",
    "circuit = QuantumCircuit(3)\n",
    "\n",
    "circuit.h(0)\n",
    "circuit.cx(0, 1)\n",
    "circuit.mcx([0, 1], 2)\n",
    "\n",
    "circuit.draw('mpl')"
   ]
  },
  {
   "cell_type": "code",
   "execution_count": 22,
   "id": "b44cecd6-6fb5-4f02-aabd-48bf55debc24",
   "metadata": {},
   "outputs": [
    {
     "data": {
      "text/latex": [
       "$\\displaystyle | \\text{final} \\rangle = \\frac{1}{\\sqrt{2}}\\left( |0\\rangle +  |7\\rangle\\right)$"
      ],
      "text/plain": [
       "<IPython.core.display.Math object>"
      ]
     },
     "execution_count": 22,
     "metadata": {},
     "output_type": "execute_result"
    }
   ],
   "source": [
    "expr = statevector_expr(circuit, amp_norm=(np.sqrt(0.5), r'\\frac{1}{\\sqrt{2}}'))\n",
    "Math(expr)"
   ]
  },
  {
   "cell_type": "code",
   "execution_count": 23,
   "id": "f09be557-2dcd-4a95-90d4-9ff2b52339cf",
   "metadata": {},
   "outputs": [
    {
     "data": {
      "image/png": "[encoded data removed]",
      "text/plain": [
       "<Figure size 203.885x367.889 with 1 Axes>"
      ]
     },
     "execution_count": 23,
     "metadata": {},
     "output_type": "execute_result"
    }
   ],
   "source": [
    "##############################################################\n",
    "#\n",
    "#  Q4.  n qubics,  calc the following quantum state\n",
    "#                     2**n-1\n",
    "#       1/sqrt(2**n) sigma ( |k> )\n",
    "#                     k=0\n",
    "#\n",
    "num_qubits = 4\n",
    "circuit = QuantumCircuit(num_qubits)\n",
    "\n",
    "for i in range(num_qubits):   \n",
    "    circuit.h(i)\n",
    "\n",
    "circuit.draw('mpl')"
   ]
  },
  {
   "cell_type": "code",
   "execution_count": 24,
   "id": "54df77c0-aa1a-4d37-bc0f-496c1849ed84",
   "metadata": {},
   "outputs": [
    {
     "data": {
      "text/latex": [
       "$\\displaystyle | \\text{final} \\rangle = \\frac{1}{4}\\left( |0\\rangle +  |1\\rangle +  |2\\rangle +  |3\\rangle +  |4\\rangle +  |5\\rangle +  |6\\rangle +  |7\\rangle +  |8\\rangle +  |9\\rangle +  |10\\rangle +  |11\\rangle +  |12\\rangle +  |13\\rangle +  |14\\rangle +  |15\\rangle\\right)$"
      ],
      "text/plain": [
       "<IPython.core.display.Math object>"
      ]
     },
     "execution_count": 24,
     "metadata": {},
     "output_type": "execute_result"
    }
   ],
   "source": [
    "sqrt_2_to_n = 2**(num_qubits // 2)\n",
    "expr = statevector_expr(circuit, amp_norm=(1./sqrt_2_to_n, r'\\frac{1}{%d}' % sqrt_2_to_n))\n",
    "Math(expr)"
   ]
  },
  {
   "cell_type": "code",
   "execution_count": 27,
   "id": "1b51ecce-a361-499a-ac9f-7d679adbf802",
   "metadata": {},
   "outputs": [
    {
     "data": {
      "image/png": "[encoded data removed]",
      "text/plain": [
       "<Figure size 454.719x367.889 with 1 Axes>"
      ]
     },
     "execution_count": 27,
     "metadata": {},
     "output_type": "execute_result"
    }
   ],
   "source": [
    "##############################################################\n",
    "#\n",
    "#  Q5.  4 qubics,  flip |5>\n",
    "#\n",
    "num_qubits = 4\n",
    "\n",
    "circuit = QuantumCircuit(num_qubits)\n",
    "\n",
    "for i in range(num_qubits):\n",
    "    circuit.h(i)\n",
    "\n",
    "circuit.x(1)\n",
    "circuit.x(3)\n",
    "circuit.mcp(np.pi, [0,1,2], 3)\n",
    "circuit.x(1)\n",
    "circuit.x(3)\n",
    "\n",
    "circuit.draw('mpl')\n"
   ]
  },
  {
   "cell_type": "code",
   "execution_count": 28,
   "id": "47fc6dbe-0a60-427c-b51c-e0806a076207",
   "metadata": {},
   "outputs": [
    {
     "data": {
      "text/latex": [
       "$\\displaystyle | \\text{final} \\rangle = \\frac{1}{4}\\left( |0\\rangle +  |1\\rangle +  |2\\rangle +  |3\\rangle +  |4\\rangle -  |5\\rangle +  |6\\rangle +  |7\\rangle +  |8\\rangle +  |9\\rangle +  |10\\rangle +  |11\\rangle +  |12\\rangle +  |13\\rangle +  |14\\rangle +  |15\\rangle\\right)$"
      ],
      "text/plain": [
       "<IPython.core.display.Math object>"
      ]
     },
     "execution_count": 28,
     "metadata": {},
     "output_type": "execute_result"
    }
   ],
   "source": [
    "sqrt_2_to_n = 2**(num_qubits // 2)\n",
    "expr = statevector_expr(circuit, amp_norm=(1./sqrt_2_to_n, r'\\frac{1}{%d}' % sqrt_2_to_n))\n",
    "Math(expr)"
   ]
  },
  {
   "cell_type": "code",
   "execution_count": 29,
   "id": "a5065656-57b9-41b3-963f-f92065f4ddd3",
   "metadata": {},
   "outputs": [
    {
     "data": {
      "image/png": "[encoded data removed]",
      "text/plain": [
       "<Figure size 287.496x535.111 with 1 Axes>"
      ]
     },
     "execution_count": 29,
     "metadata": {},
     "output_type": "execute_result"
    }
   ],
   "source": [
    "##############################################################\n",
    "#\n",
    "#                              2^n-1\n",
    "#  Q6.  6 qubics,  1 / sqrt(2) sigma exp(2*pi* sk/2^n *i) * |k>\n",
    "#                               k=0\n",
    "#       n = 6, s = 2.5\n",
    "#\n",
    "num_qubits = 6\n",
    "\n",
    "circuit = QuantumCircuit(num_qubits)\n",
    "\n",
    "s = 2.5\n",
    "\n",
    "for m in range(num_qubits):\n",
    "    circuit.h(m)\n",
    "    circuit.p(2. * np.pi * s / (2**(num_qubits-m) ), m)\n",
    " \n",
    "circuit.draw('mpl')\n"
   ]
  },
  {
   "cell_type": "code",
   "execution_count": 30,
   "id": "2d49e1df-f163-43ff-9018-1978330a5b87",
   "metadata": {},
   "outputs": [
    {
     "data": {
      "text/latex": [
       "$\\displaystyle | \\text{final} \\rangle = \\frac{1}{8}\\left( |0\\rangle + e^{2.50 \\cdot \\frac{2\\pi i}{64} i} |1\\rangle + e^{5 \\cdot \\frac{2\\pi i}{64} i} |2\\rangle + e^{7.50 \\cdot \\frac{2\\pi i}{64} i} |3\\rangle + e^{10 \\cdot \\frac{2\\pi i}{64} i} |4\\rangle + e^{12.50 \\cdot \\frac{2\\pi i}{64} i} |5\\rangle + e^{15 \\cdot \\frac{2\\pi i}{64} i} |6\\rangle + e^{17.50 \\cdot \\frac{2\\pi i}{64} i} |7\\rangle + e^{20 \\cdot \\frac{2\\pi i}{64} i} |8\\rangle + e^{22.50 \\cdot \\frac{2\\pi i}{64} i} |9\\rangle + e^{25 \\cdot \\frac{2\\pi i}{64} i} |10\\rangle + e^{27.50 \\cdot \\frac{2\\pi i}{64} i} |11\\rangle + e^{30 \\cdot \\frac{2\\pi i}{64} i} |12\\rangle + e^{32.50 \\cdot \\frac{2\\pi i}{64} i} |13\\rangle + e^{35 \\cdot \\frac{2\\pi i}{64} i} |14\\rangle + e^{37.50 \\cdot \\frac{2\\pi i}{64} i} |15\\rangle + e^{40 \\cdot \\frac{2\\pi i}{64} i} |16\\rangle + e^{42.50 \\cdot \\frac{2\\pi i}{64} i} |17\\rangle + e^{45 \\cdot \\frac{2\\pi i}{64} i} |18\\rangle + e^{47.50 \\cdot \\frac{2\\pi i}{64} i} |19\\rangle + e^{50 \\cdot \\frac{2\\pi i}{64} i} |20\\rangle + e^{52.50 \\cdot \\frac{2\\pi i}{64} i} |21\\rangle + e^{55 \\cdot \\frac{2\\pi i}{64} i} |22\\rangle + e^{57.50 \\cdot \\frac{2\\pi i}{64} i} |23\\rangle + e^{60 \\cdot \\frac{2\\pi i}{64} i} |24\\rangle + e^{62.50 \\cdot \\frac{2\\pi i}{64} i} |25\\rangle + e^{\\frac{2\\pi i}{64} i} |26\\rangle + e^{3.50 \\cdot \\frac{2\\pi i}{64} i} |27\\rangle + e^{6 \\cdot \\frac{2\\pi i}{64} i} |28\\rangle + e^{8.50 \\cdot \\frac{2\\pi i}{64} i} |29\\rangle + e^{11 \\cdot \\frac{2\\pi i}{64} i} |30\\rangle + e^{13.50 \\cdot \\frac{2\\pi i}{64} i} |31\\rangle + i |32\\rangle + e^{18.50 \\cdot \\frac{2\\pi i}{64} i} |33\\rangle + e^{21 \\cdot \\frac{2\\pi i}{64} i} |34\\rangle + e^{23.50 \\cdot \\frac{2\\pi i}{64} i} |35\\rangle + e^{26 \\cdot \\frac{2\\pi i}{64} i} |36\\rangle + e^{28.50 \\cdot \\frac{2\\pi i}{64} i} |37\\rangle + e^{31 \\cdot \\frac{2\\pi i}{64} i} |38\\rangle + e^{33.50 \\cdot \\frac{2\\pi i}{64} i} |39\\rangle + e^{36 \\cdot \\frac{2\\pi i}{64} i} |40\\rangle + e^{38.50 \\cdot \\frac{2\\pi i}{64} i} |41\\rangle + e^{41 \\cdot \\frac{2\\pi i}{64} i} |42\\rangle + e^{43.50 \\cdot \\frac{2\\pi i}{64} i} |43\\rangle + e^{46 \\cdot \\frac{2\\pi i}{64} i} |44\\rangle + e^{48.50 \\cdot \\frac{2\\pi i}{64} i} |45\\rangle + e^{51 \\cdot \\frac{2\\pi i}{64} i} |46\\rangle + e^{53.50 \\cdot \\frac{2\\pi i}{64} i} |47\\rangle + e^{56 \\cdot \\frac{2\\pi i}{64} i} |48\\rangle + e^{58.50 \\cdot \\frac{2\\pi i}{64} i} |49\\rangle + e^{61 \\cdot \\frac{2\\pi i}{64} i} |50\\rangle + e^{63.50 \\cdot \\frac{2\\pi i}{64} i} |51\\rangle + e^{2 \\cdot \\frac{2\\pi i}{64} i} |52\\rangle + e^{4.50 \\cdot \\frac{2\\pi i}{64} i} |53\\rangle + e^{7 \\cdot \\frac{2\\pi i}{64} i} |54\\rangle + e^{9.50 \\cdot \\frac{2\\pi i}{64} i} |55\\rangle + e^{12 \\cdot \\frac{2\\pi i}{64} i} |56\\rangle + e^{14.50 \\cdot \\frac{2\\pi i}{64} i} |57\\rangle + e^{17 \\cdot \\frac{2\\pi i}{64} i} |58\\rangle + e^{19.50 \\cdot \\frac{2\\pi i}{64} i} |59\\rangle + e^{22 \\cdot \\frac{2\\pi i}{64} i} |60\\rangle + e^{24.50 \\cdot \\frac{2\\pi i}{64} i} |61\\rangle + e^{27 \\cdot \\frac{2\\pi i}{64} i} |62\\rangle + e^{29.50 \\cdot \\frac{2\\pi i}{64} i} |63\\rangle\\right)$"
      ],
      "text/plain": [
       "<IPython.core.display.Math object>"
      ]
     },
     "execution_count": 30,
     "metadata": {},
     "output_type": "execute_result"
    }
   ],
   "source": [
    "sqrt_2_to_n = 2**(num_qubits // 2)\n",
    "amp_norm = (1./sqrt_2_to_n, r'\\frac{1}{%d}' % sqrt_2_to_n)\n",
    "phase_norm = (2 * np.pi / (2 ** num_qubits), r'\\frac{2\\pi i}{%d}' % (2**num_qubits))\n",
    "expr = statevector_expr(circuit, amp_norm, phase_norm=phase_norm)\n",
    "Math(expr)"
   ]
  },
  {
   "cell_type": "code",
   "execution_count": null,
   "id": "18142f67-f436-4547-af27-803c192b7917",
   "metadata": {},
   "outputs": [],
   "source": []
  }
 ],
 "metadata": {
  "kernelspec": {
   "display_name": "Python 3 (ipykernel)",
   "language": "python",
   "name": "python3"
  },
  "language_info": {
   "codemirror_mode": {
    "name": "ipython",
    "version": 3
   },
   "file_extension": ".py",
   "mimetype": "text/x-python",
   "name": "python",
   "nbconvert_exporter": "python",
   "pygments_lexer": "ipython3",
   "version": "3.10.12"
  }
 },
 "nbformat": 4,
 "nbformat_minor": 5
}
