{
 "cells": [
  {
   "cell_type": "code",
   "execution_count": 5,
   "id": "033d67d4-146b-4cd2-98f1-277f1f0b1c3d",
   "metadata": {},
   "outputs": [],
   "source": [
    "import numpy as np\n",
    "import matplotlib.pyplot as plt\n",
    "\n",
    "from qiskit_aer import AerSimulator\n",
    "from qiskit import QuantumCircuit, QuantumRegister,ClassicalRegister, transpile\n",
    "\n",
    "from qiskit.visualization import *\n",
    "\n",
    "from fractions import Fraction\n",
    "\n",
    "n_meas = 3\n",
    "\n",
    "qreg_meas = QuantumRegister(n_meas, name=\"meas\")\n",
    "qreg_aux = QuantumRegister(1, name=\"aux\")\n",
    "creg_meas = ClassicalRegister(n_meas, name=\"out\")\n",
    "\n",
    "qc = QuantumCircuit(qreg_meas, qreg_aux, creg_meas)\n",
    "\n",
    "qc.h(qreg_meas)\n",
    "qc.x(qreg_aux)\n",
    "\n",
    "angle = np.pi / 2\n",
    "\n",
    "for x, ctrl in enumerate(qreg_meas):\n",
    "    qc.cp(angle * (2 ** x), ctrl, qreg_aux[0])\n",
    "\n",
    "\n"
   ]
  },
  {
   "cell_type": "code",
   "execution_count": 6,
   "id": "f5904af9-b588-46d3-abf1-3b306f8449cc",
   "metadata": {},
   "outputs": [],
   "source": [
    "def qft_dagger(qreg):\n",
    "    qc = QuantumCircuit(qreg)\n",
    "\n",
    "    for j in range(qreg.size // 2):\n",
    "        qc.swap(qreg[j], qreg[-1-j])\n",
    "        \n",
    "    for itarg in range(qreg.size):\n",
    "        for ictrl in range(itarg):\n",
    "            power = ictrl - itarg - 1\n",
    "            qc.cp(-2.*np.pi*(2**power), ictrl, itarg)\n",
    "        qc.h(itarg)\n",
    "    \n",
    "    qc.name = \"QFT^dagger\"\n",
    "    \n",
    "    return qc"
   ]
  },
  {
   "cell_type": "code",
   "execution_count": null,
   "id": "5288a592-706a-4a4c-82a2-7092efabe0c9",
   "metadata": {},
   "outputs": [],
   "source": [
    "qc.barrier()\n",
    "qc.append(qft_dagger(qreg_meas), qargs=qreg_meas)\n",
    "qc.barrier()\n",
    "qc.measure(qreg_meas, creg_meas)\n",
    "qc.draw('mpl')"
   ]
  }
 ],
 "metadata": {
  "kernelspec": {
   "display_name": "Python 3 (ipykernel)",
   "language": "python",
   "name": "python3"
  },
  "language_info": {
   "codemirror_mode": {
    "name": "ipython",
    "version": 3
   },
   "file_extension": ".py",
   "mimetype": "text/x-python",
   "name": "python",
   "nbconvert_exporter": "python",
   "pygments_lexer": "ipython3",
   "version": "3.10.12"
  }
 },
 "nbformat": 4,
 "nbformat_minor": 5
}
