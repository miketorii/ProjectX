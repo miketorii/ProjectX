{
 "cells": [
  {
   "cell_type": "code",
   "execution_count": 13,
   "id": "5039b58b-c168-4c86-a395-8fc1aee1c6f1",
   "metadata": {},
   "outputs": [
    {
     "name": "stdout",
     "output_type": "stream",
     "text": [
      "aer_simulator_statevector\n"
     ]
    },
    {
     "data": {
      "image/png": "[encoded data removed]",
      "text/plain": [
       "<Figure size 370.906x200.667 with 1 Axes>"
      ]
     },
     "execution_count": 13,
     "metadata": {},
     "output_type": "execute_result"
    }
   ],
   "source": [
    "import numpy as np\n",
    "\n",
    "from qiskit_aer import AerSimulator\n",
    "from qiskit import QuantumCircuit, QuantumRegister,transpile\n",
    "\n",
    "#########################################################################\n",
    "#\n",
    "#\n",
    "def get_statevector_array(circuit):\n",
    "    circuit = circuit.copy()\n",
    "    circuit.save_statevector()\n",
    "    circuit = transpile(circuit, backend=simulator)\n",
    "    job = simulator.run(circuit)\n",
    "    result = job.result()\n",
    "    qiskit_statevector = result.data()['statevector']\n",
    "\n",
    "    return np.asarray(qiskit_statevector)\n",
    "\n",
    "#########################################################################\n",
    "#\n",
    "#\n",
    "simulator = AerSimulator(method='statevector')\n",
    "print(simulator.name)\n",
    "\n",
    "circuit = QuantumCircuit(2)\n",
    "circuit.h(0)\n",
    "circuit.cx(0,1)\n",
    "circuit.ry(-3.*np.pi/4., 1)\n",
    "\n",
    "circuit.draw('mpl')\n"
   ]
  },
  {
   "cell_type": "code",
   "execution_count": 14,
   "id": "5b3d335c-6f1d-4152-8e6f-c75cc9a75c02",
   "metadata": {
    "scrolled": true
   },
   "outputs": [
    {
     "ename": "NameError",
     "evalue": "name 'transpile' is not defined",
     "output_type": "error",
     "traceback": [
      "\u001b[0;31m---------------------------------------------------------------------------\u001b[0m",
      "\u001b[0;31mNameError\u001b[0m                                 Traceback (most recent call last)",
      "Cell \u001b[0;32mIn[14], line 1\u001b[0m\n\u001b[0;32m----> 1\u001b[0m statevector \u001b[38;5;241m=\u001b[39m \u001b[43mget_statevector_array\u001b[49m\u001b[43m(\u001b[49m\u001b[43mcircuit\u001b[49m\u001b[43m)\u001b[49m\n\u001b[1;32m      2\u001b[0m \u001b[38;5;28mprint\u001b[39m(\u001b[38;5;28mtype\u001b[39m(statevector), statevector\u001b[38;5;241m.\u001b[39mdtype)\n\u001b[1;32m      3\u001b[0m \u001b[38;5;28mprint\u001b[39m(statevector)\n",
      "Cell \u001b[0;32mIn[13], line 12\u001b[0m, in \u001b[0;36mget_statevector_array\u001b[0;34m(circuit)\u001b[0m\n\u001b[1;32m     10\u001b[0m circuit \u001b[38;5;241m=\u001b[39m circuit\u001b[38;5;241m.\u001b[39mcopy()\n\u001b[1;32m     11\u001b[0m circuit\u001b[38;5;241m.\u001b[39msave_statevector()\n\u001b[0;32m---> 12\u001b[0m circuit \u001b[38;5;241m=\u001b[39m \u001b[43mtranspile\u001b[49m(circuit, backend\u001b[38;5;241m=\u001b[39msimulator)\n\u001b[1;32m     13\u001b[0m job \u001b[38;5;241m=\u001b[39m simulator\u001b[38;5;241m.\u001b[39mrun(circuit)\n\u001b[1;32m     14\u001b[0m result \u001b[38;5;241m=\u001b[39m job\u001b[38;5;241m.\u001b[39mresult()\n",
      "\u001b[0;31mNameError\u001b[0m: name 'transpile' is not defined"
     ]
    }
   ],
   "source": [
    "statevector = get_statevector_array(circuit)\n",
    "print(type(statevector), statevector.dtype)\n",
    "print(statevector)"
   ]
  },
  {
   "cell_type": "code",
   "execution_count": null,
   "id": "61ae49f9-e948-4822-8777-b1d786dd7fce",
   "metadata": {},
   "outputs": [],
   "source": []
  }
 ],
 "metadata": {
  "kernelspec": {
   "display_name": "Python 3 (ipykernel)",
   "language": "python",
   "name": "python3"
  },
  "language_info": {
   "codemirror_mode": {
    "name": "ipython",
    "version": 3
   },
   "file_extension": ".py",
   "mimetype": "text/x-python",
   "name": "python",
   "nbconvert_exporter": "python",
   "pygments_lexer": "ipython3",
   "version": "3.10.12"
  }
 },
 "nbformat": 4,
 "nbformat_minor": 5
}
